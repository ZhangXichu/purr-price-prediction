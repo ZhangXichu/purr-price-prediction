{
 "cells": [
  {
   "cell_type": "code",
   "execution_count": 141,
   "id": "initial_id",
   "metadata": {
    "collapsed": true,
    "ExecuteTime": {
     "end_time": "2023-09-07T17:07:22.499659700Z",
     "start_time": "2023-09-07T17:07:22.490964800Z"
    }
   },
   "outputs": [],
   "source": [
    "import pandas as pd\n",
    "import matplotlib.pyplot as plt\n",
    "import seaborn as sns\n",
    "import numpy as np\n",
    "from scipy import stats, linalg\n",
    "import torch\n",
    "import fastai\n",
    "import re"
   ]
  },
  {
   "cell_type": "code",
   "execution_count": 106,
   "outputs": [],
   "source": [
    "train_data = pd.read_csv(\"C:/worksspace/purr-price-prediction/train.csv\")\n",
    "test_data = pd.read_csv(\"C:/worksspace/purr-price-prediction/test.csv\")\n",
    "\n",
    "# approach: (1) use only images to predict (2) image combined with tabular data, for this purpose we will use the library image_tabular\n",
    "# what is cool down time? "
   ],
   "metadata": {
    "collapsed": false,
    "ExecuteTime": {
     "end_time": "2023-09-07T16:54:05.829025700Z",
     "start_time": "2023-09-07T16:54:05.807817700Z"
    }
   },
   "id": "13ac0e6627a87843"
  },
  {
   "cell_type": "code",
   "execution_count": 107,
   "outputs": [
    {
     "data": {
      "text/plain": "                    id price           speed                          image\n0     7d46fd31038904e2  2.13       Fast (1m)  ./images/7d46fd31038904e2.png\n1     76690b9129b9895c  0.46  Catatonic (1w)  ./images/76690b9129b9895c.png\n2     c5f9966acce22205    10      Swift (2m)  ./images/c5f9966acce22205.png\n3     dfcbc3748fa8e4ba     2  Catatonic (1w)  ./images/dfcbc3748fa8e4ba.png\n4     eefb9c589f2ad43a     1    Snappy (10m)  ./images/eefb9c589f2ad43a.png\n...                ...   ...             ...                            ...\n1995  307a15aebca02b38  5.08       Fast (1m)  ./images/307a15aebca02b38.png\n1996  9c85020f7a7bdf6b   0.3      Swift (2m)  ./images/9c85020f7a7bdf6b.png\n1997  b02b3492e6b7cd6b  1.44       Fast (1m)  ./images/b02b3492e6b7cd6b.png\n1998  21dd1ee9b54261af   2.5       Fast (1m)  ./images/21dd1ee9b54261af.png\n1999  cf63e5026eb6d155    40       Fast (1m)  ./images/cf63e5026eb6d155.png\n\n[2000 rows x 4 columns]",
      "text/html": "<div>\n<style scoped>\n    .dataframe tbody tr th:only-of-type {\n        vertical-align: middle;\n    }\n\n    .dataframe tbody tr th {\n        vertical-align: top;\n    }\n\n    .dataframe thead th {\n        text-align: right;\n    }\n</style>\n<table border=\"1\" class=\"dataframe\">\n  <thead>\n    <tr style=\"text-align: right;\">\n      <th></th>\n      <th>id</th>\n      <th>price</th>\n      <th>speed</th>\n      <th>image</th>\n    </tr>\n  </thead>\n  <tbody>\n    <tr>\n      <th>0</th>\n      <td>7d46fd31038904e2</td>\n      <td>2.13</td>\n      <td>Fast (1m)</td>\n      <td>./images/7d46fd31038904e2.png</td>\n    </tr>\n    <tr>\n      <th>1</th>\n      <td>76690b9129b9895c</td>\n      <td>0.46</td>\n      <td>Catatonic (1w)</td>\n      <td>./images/76690b9129b9895c.png</td>\n    </tr>\n    <tr>\n      <th>2</th>\n      <td>c5f9966acce22205</td>\n      <td>10</td>\n      <td>Swift (2m)</td>\n      <td>./images/c5f9966acce22205.png</td>\n    </tr>\n    <tr>\n      <th>3</th>\n      <td>dfcbc3748fa8e4ba</td>\n      <td>2</td>\n      <td>Catatonic (1w)</td>\n      <td>./images/dfcbc3748fa8e4ba.png</td>\n    </tr>\n    <tr>\n      <th>4</th>\n      <td>eefb9c589f2ad43a</td>\n      <td>1</td>\n      <td>Snappy (10m)</td>\n      <td>./images/eefb9c589f2ad43a.png</td>\n    </tr>\n    <tr>\n      <th>...</th>\n      <td>...</td>\n      <td>...</td>\n      <td>...</td>\n      <td>...</td>\n    </tr>\n    <tr>\n      <th>1995</th>\n      <td>307a15aebca02b38</td>\n      <td>5.08</td>\n      <td>Fast (1m)</td>\n      <td>./images/307a15aebca02b38.png</td>\n    </tr>\n    <tr>\n      <th>1996</th>\n      <td>9c85020f7a7bdf6b</td>\n      <td>0.3</td>\n      <td>Swift (2m)</td>\n      <td>./images/9c85020f7a7bdf6b.png</td>\n    </tr>\n    <tr>\n      <th>1997</th>\n      <td>b02b3492e6b7cd6b</td>\n      <td>1.44</td>\n      <td>Fast (1m)</td>\n      <td>./images/b02b3492e6b7cd6b.png</td>\n    </tr>\n    <tr>\n      <th>1998</th>\n      <td>21dd1ee9b54261af</td>\n      <td>2.5</td>\n      <td>Fast (1m)</td>\n      <td>./images/21dd1ee9b54261af.png</td>\n    </tr>\n    <tr>\n      <th>1999</th>\n      <td>cf63e5026eb6d155</td>\n      <td>40</td>\n      <td>Fast (1m)</td>\n      <td>./images/cf63e5026eb6d155.png</td>\n    </tr>\n  </tbody>\n</table>\n<p>2000 rows × 4 columns</p>\n</div>"
     },
     "execution_count": 107,
     "metadata": {},
     "output_type": "execute_result"
    }
   ],
   "source": [
    "train_data"
   ],
   "metadata": {
    "collapsed": false,
    "ExecuteTime": {
     "end_time": "2023-09-07T16:54:05.966082600Z",
     "start_time": "2023-09-07T16:54:05.941439300Z"
    }
   },
   "id": "fbbd6caf6169082"
  },
  {
   "cell_type": "code",
   "execution_count": 108,
   "outputs": [
    {
     "data": {
      "text/plain": "id       object\nprice    object\nspeed    object\nimage    object\ndtype: object"
     },
     "execution_count": 108,
     "metadata": {},
     "output_type": "execute_result"
    }
   ],
   "source": [
    "train_data.dtypes"
   ],
   "metadata": {
    "collapsed": false,
    "ExecuteTime": {
     "end_time": "2023-09-07T16:54:06.213825800Z",
     "start_time": "2023-09-07T16:54:06.170984200Z"
    }
   },
   "id": "385a55b3739bd22d"
  },
  {
   "cell_type": "code",
   "execution_count": 109,
   "outputs": [
    {
     "data": {
      "text/plain": "                    id       price       speed                          image\n169   f3d35c91c9326e2f   1,000,000   Fast (1m)  ./images/f3d35c91c9326e2f.png\n492   d8f329f21806993d  19,999.995  Swift (2m)  ./images/d8f329f21806993d.png\n1750  8710ef3010f0f6bc      10,000   Fast (1m)  ./images/8710ef3010f0f6bc.png\n1938  ef35cc81fb7967c3      15,000   Fast (1m)  ./images/ef35cc81fb7967c3.png",
      "text/html": "<div>\n<style scoped>\n    .dataframe tbody tr th:only-of-type {\n        vertical-align: middle;\n    }\n\n    .dataframe tbody tr th {\n        vertical-align: top;\n    }\n\n    .dataframe thead th {\n        text-align: right;\n    }\n</style>\n<table border=\"1\" class=\"dataframe\">\n  <thead>\n    <tr style=\"text-align: right;\">\n      <th></th>\n      <th>id</th>\n      <th>price</th>\n      <th>speed</th>\n      <th>image</th>\n    </tr>\n  </thead>\n  <tbody>\n    <tr>\n      <th>169</th>\n      <td>f3d35c91c9326e2f</td>\n      <td>1,000,000</td>\n      <td>Fast (1m)</td>\n      <td>./images/f3d35c91c9326e2f.png</td>\n    </tr>\n    <tr>\n      <th>492</th>\n      <td>d8f329f21806993d</td>\n      <td>19,999.995</td>\n      <td>Swift (2m)</td>\n      <td>./images/d8f329f21806993d.png</td>\n    </tr>\n    <tr>\n      <th>1750</th>\n      <td>8710ef3010f0f6bc</td>\n      <td>10,000</td>\n      <td>Fast (1m)</td>\n      <td>./images/8710ef3010f0f6bc.png</td>\n    </tr>\n    <tr>\n      <th>1938</th>\n      <td>ef35cc81fb7967c3</td>\n      <td>15,000</td>\n      <td>Fast (1m)</td>\n      <td>./images/ef35cc81fb7967c3.png</td>\n    </tr>\n  </tbody>\n</table>\n</div>"
     },
     "execution_count": 109,
     "metadata": {},
     "output_type": "execute_result"
    }
   ],
   "source": [
    "# firstly, we want to checkout how the speed influences the price (correlation, genral trend)\n",
    "\n",
    "train_data[train_data[\"price\"].str.contains(\",\")]"
   ],
   "metadata": {
    "collapsed": false,
    "ExecuteTime": {
     "end_time": "2023-09-07T16:54:06.397816Z",
     "start_time": "2023-09-07T16:54:06.302957800Z"
    }
   },
   "id": "fca3ed9c6867649f"
  },
  {
   "cell_type": "code",
   "execution_count": 110,
   "outputs": [],
   "source": [
    "train_data[\"price\"] = train_data[\"price\"].apply(lambda x : x.replace(\",\",\"\") if \",\" in x else x)"
   ],
   "metadata": {
    "collapsed": false,
    "ExecuteTime": {
     "end_time": "2023-09-07T16:54:06.506746200Z",
     "start_time": "2023-09-07T16:54:06.454322200Z"
    }
   },
   "id": "ac4f153a37d7a916"
  },
  {
   "cell_type": "code",
   "execution_count": 111,
   "outputs": [
    {
     "data": {
      "text/plain": "Empty DataFrame\nColumns: [id, price, speed, image]\nIndex: []",
      "text/html": "<div>\n<style scoped>\n    .dataframe tbody tr th:only-of-type {\n        vertical-align: middle;\n    }\n\n    .dataframe tbody tr th {\n        vertical-align: top;\n    }\n\n    .dataframe thead th {\n        text-align: right;\n    }\n</style>\n<table border=\"1\" class=\"dataframe\">\n  <thead>\n    <tr style=\"text-align: right;\">\n      <th></th>\n      <th>id</th>\n      <th>price</th>\n      <th>speed</th>\n      <th>image</th>\n    </tr>\n  </thead>\n  <tbody>\n  </tbody>\n</table>\n</div>"
     },
     "execution_count": 111,
     "metadata": {},
     "output_type": "execute_result"
    }
   ],
   "source": [
    "train_data[train_data[\"price\"].str.contains(\",\")]"
   ],
   "metadata": {
    "collapsed": false,
    "ExecuteTime": {
     "end_time": "2023-09-07T16:54:06.676800900Z",
     "start_time": "2023-09-07T16:54:06.619915400Z"
    }
   },
   "id": "41830c88916fde60"
  },
  {
   "cell_type": "code",
   "execution_count": 112,
   "outputs": [],
   "source": [
    "train_data[\"price\"] = train_data[(\"price\")].astype(float)"
   ],
   "metadata": {
    "collapsed": false,
    "ExecuteTime": {
     "end_time": "2023-09-07T16:54:06.969122700Z",
     "start_time": "2023-09-07T16:54:06.765247300Z"
    }
   },
   "id": "f4178ee89f824c4e"
  },
  {
   "cell_type": "code",
   "execution_count": 113,
   "outputs": [
    {
     "data": {
      "text/plain": "array(['Fast (1m)', 'Catatonic (1w)', 'Swift (2m)', 'Snappy (10m)',\n       'Swift (5m)', 'Snappy (30m)', 'Brisk (1h)', 'Slow (16h)',\n       'Plodding (4h)', 'Plodding (8h)', 'Brisk (2h)', 'Sluggish (4d)',\n       'Sluggish (2d)', 'Slow (24h)'], dtype=object)"
     },
     "execution_count": 113,
     "metadata": {},
     "output_type": "execute_result"
    }
   ],
   "source": [
    "train_data[\"speed\"].unique()"
   ],
   "metadata": {
    "collapsed": false,
    "ExecuteTime": {
     "end_time": "2023-09-07T16:54:08.374860100Z",
     "start_time": "2023-09-07T16:54:08.349067900Z"
    }
   },
   "id": "c3de256bca10d32f"
  },
  {
   "cell_type": "code",
   "execution_count": 114,
   "outputs": [],
   "source": [
    "# re.search(r\"\\(([A-Za-z0-9]+)\\)\", 'Snappy (10m)').group(1)\n",
    "def get_time(s):\n",
    "    res_str = re.search(r\"\\(([A-Za-z0-9]+)\\)\", s).group(1)\n",
    "    res = parse_time_string(res_str)\n",
    "    return res\n",
    "\n",
    "# we want to convert all time strings to numbers (unit is minute)\n",
    "def parse_time_string(s):\n",
    "    items = re.match(r\"([0-9]+)([a-z]+)\", s, re.I).groups()\n",
    "    num = int(items[0])\n",
    "    unit = items[1]\n",
    "    if \"m\" in unit:\n",
    "        return num\n",
    "    elif \"h\" in unit:\n",
    "        return 60 * num\n",
    "    elif \"d\" in unit:\n",
    "        return 60 * 24 * num\n",
    "    else: # \"w\"\n",
    "        return 60 * 24 * 7 * num"
   ],
   "metadata": {
    "collapsed": false,
    "ExecuteTime": {
     "end_time": "2023-09-07T16:54:08.546648200Z",
     "start_time": "2023-09-07T16:54:08.539466700Z"
    }
   },
   "id": "d21c3b9dbcc3549b"
  },
  {
   "cell_type": "code",
   "execution_count": 115,
   "outputs": [
    {
     "data": {
      "text/plain": "True"
     },
     "execution_count": 115,
     "metadata": {},
     "output_type": "execute_result"
    }
   ],
   "source": [
    "stuff = re.match(r\"([0-9]+)([a-z]+)\", \"10m\", re.I).groups()\n",
    "\"m\" in stuff[1]"
   ],
   "metadata": {
    "collapsed": false,
    "ExecuteTime": {
     "end_time": "2023-09-07T16:54:09.319062Z",
     "start_time": "2023-09-07T16:54:09.306982700Z"
    }
   },
   "id": "cc7bb94969ce2a73"
  },
  {
   "cell_type": "code",
   "execution_count": 116,
   "outputs": [],
   "source": [
    "train_data[\"speed\"] = train_data[\"speed\"].apply(lambda x: get_time(x))"
   ],
   "metadata": {
    "collapsed": false,
    "ExecuteTime": {
     "end_time": "2023-09-07T16:54:09.501624300Z",
     "start_time": "2023-09-07T16:54:09.476041800Z"
    }
   },
   "id": "b2e04e97b76338b7"
  },
  {
   "cell_type": "code",
   "execution_count": 117,
   "outputs": [
    {
     "data": {
      "text/plain": "0       7d46fd31038904e2\n1       76690b9129b9895c\n2       c5f9966acce22205\n3       dfcbc3748fa8e4ba\n4       eefb9c589f2ad43a\n              ...       \n1995    307a15aebca02b38\n1996    9c85020f7a7bdf6b\n1997    b02b3492e6b7cd6b\n1998    21dd1ee9b54261af\n1999    cf63e5026eb6d155\nName: id, Length: 2000, dtype: object"
     },
     "execution_count": 117,
     "metadata": {},
     "output_type": "execute_result"
    }
   ],
   "source": [
    "train_data[\"id\"]"
   ],
   "metadata": {
    "collapsed": false,
    "ExecuteTime": {
     "end_time": "2023-09-07T16:54:10.087158300Z",
     "start_time": "2023-09-07T16:54:10.061733500Z"
    }
   },
   "id": "44ec3335602e3a07"
  },
  {
   "cell_type": "code",
   "execution_count": 118,
   "outputs": [
    {
     "data": {
      "text/plain": "id        object\nprice    float64\nspeed      int64\nimage     object\ndtype: object"
     },
     "execution_count": 118,
     "metadata": {},
     "output_type": "execute_result"
    }
   ],
   "source": [
    "train_data.dtypes"
   ],
   "metadata": {
    "collapsed": false,
    "ExecuteTime": {
     "end_time": "2023-09-07T16:54:10.257169100Z",
     "start_time": "2023-09-07T16:54:10.221948Z"
    }
   },
   "id": "5ffef465513ef73b"
  },
  {
   "cell_type": "code",
   "execution_count": 119,
   "outputs": [
    {
     "data": {
      "text/plain": "<AxesSubplot:xlabel='speed', ylabel='Count'>"
     },
     "execution_count": 119,
     "metadata": {},
     "output_type": "execute_result"
    },
    {
     "data": {
      "text/plain": "<Figure size 432x288 with 1 Axes>",
      "image/png": "[encoded data removed]"
     },
     "metadata": {},
     "output_type": "display_data"
    }
   ],
   "source": [
    "sns.histplot(data=train_data, x=\"speed\")\n",
    "# when plotting count or density, be careful with continuous data"
   ],
   "metadata": {
    "collapsed": false,
    "ExecuteTime": {
     "end_time": "2023-09-07T16:54:11.299261100Z",
     "start_time": "2023-09-07T16:54:11.043160100Z"
    }
   },
   "id": "a7b81ea2997d3134"
  },
  {
   "cell_type": "code",
   "execution_count": 120,
   "outputs": [
    {
     "data": {
      "text/plain": "<seaborn.axisgrid.FacetGrid at 0x15d777e5b40>"
     },
     "execution_count": 120,
     "metadata": {},
     "output_type": "execute_result"
    },
    {
     "data": {
      "text/plain": "<Figure size 360x360 with 1 Axes>",
      "image/png": "[encoded data removed]"
     },
     "metadata": {},
     "output_type": "display_data"
    }
   ],
   "source": [
    "sns.displot(x=train_data[\"price\"], bins=25, kde=True)"
   ],
   "metadata": {
    "collapsed": false,
    "ExecuteTime": {
     "end_time": "2023-09-07T16:54:12.261085600Z",
     "start_time": "2023-09-07T16:54:11.993324700Z"
    }
   },
   "id": "a1c8b05c3c616d86"
  },
  {
   "cell_type": "code",
   "execution_count": 121,
   "outputs": [
    {
     "data": {
      "text/plain": "<AxesSubplot:xlabel='price'>"
     },
     "execution_count": 121,
     "metadata": {},
     "output_type": "execute_result"
    },
    {
     "data": {
      "text/plain": "<Figure size 432x288 with 1 Axes>",
      "image/png": "[encoded data removed]"
     },
     "metadata": {},
     "output_type": "display_data"
    }
   ],
   "source": [
    "sns.boxplot(x=train_data[\"price\"])"
   ],
   "metadata": {
    "collapsed": false,
    "ExecuteTime": {
     "end_time": "2023-09-07T16:54:13.028983900Z",
     "start_time": "2023-09-07T16:54:12.897313300Z"
    }
   },
   "id": "d17a607feb1b5ab4"
  },
  {
   "cell_type": "code",
   "execution_count": 122,
   "outputs": [],
   "source": [
    "# back up the original data\n",
    "train_data_original = train_data"
   ],
   "metadata": {
    "collapsed": false,
    "ExecuteTime": {
     "end_time": "2023-09-07T16:54:13.105833900Z",
     "start_time": "2023-09-07T16:54:13.084751600Z"
    }
   },
   "id": "566edf95e374fdef"
  },
  {
   "cell_type": "code",
   "execution_count": 147,
   "outputs": [
    {
     "data": {
      "text/plain": "                    id  price  speed                          image\n0     7d46fd31038904e2   2.13      1  ./images/7d46fd31038904e2.png\n1     76690b9129b9895c   0.46  10080  ./images/76690b9129b9895c.png\n2     c5f9966acce22205  10.00      2  ./images/c5f9966acce22205.png\n3     dfcbc3748fa8e4ba   2.00  10080  ./images/dfcbc3748fa8e4ba.png\n4     eefb9c589f2ad43a   1.00     10  ./images/eefb9c589f2ad43a.png\n...                ...    ...    ...                            ...\n1995  307a15aebca02b38   5.08      1  ./images/307a15aebca02b38.png\n1996  9c85020f7a7bdf6b   0.30      2  ./images/9c85020f7a7bdf6b.png\n1997  b02b3492e6b7cd6b   1.44      1  ./images/b02b3492e6b7cd6b.png\n1998  21dd1ee9b54261af   2.50      1  ./images/21dd1ee9b54261af.png\n1999  cf63e5026eb6d155  40.00      1  ./images/cf63e5026eb6d155.png\n\n[2000 rows x 4 columns]",
      "text/html": "<div>\n<style scoped>\n    .dataframe tbody tr th:only-of-type {\n        vertical-align: middle;\n    }\n\n    .dataframe tbody tr th {\n        vertical-align: top;\n    }\n\n    .dataframe thead th {\n        text-align: right;\n    }\n</style>\n<table border=\"1\" class=\"dataframe\">\n  <thead>\n    <tr style=\"text-align: right;\">\n      <th></th>\n      <th>id</th>\n      <th>price</th>\n      <th>speed</th>\n      <th>image</th>\n    </tr>\n  </thead>\n  <tbody>\n    <tr>\n      <th>0</th>\n      <td>7d46fd31038904e2</td>\n      <td>2.13</td>\n      <td>1</td>\n      <td>./images/7d46fd31038904e2.png</td>\n    </tr>\n    <tr>\n      <th>1</th>\n      <td>76690b9129b9895c</td>\n      <td>0.46</td>\n      <td>10080</td>\n      <td>./images/76690b9129b9895c.png</td>\n    </tr>\n    <tr>\n      <th>2</th>\n      <td>c5f9966acce22205</td>\n      <td>10.00</td>\n      <td>2</td>\n      <td>./images/c5f9966acce22205.png</td>\n    </tr>\n    <tr>\n      <th>3</th>\n      <td>dfcbc3748fa8e4ba</td>\n      <td>2.00</td>\n      <td>10080</td>\n      <td>./images/dfcbc3748fa8e4ba.png</td>\n    </tr>\n    <tr>\n      <th>4</th>\n      <td>eefb9c589f2ad43a</td>\n      <td>1.00</td>\n      <td>10</td>\n      <td>./images/eefb9c589f2ad43a.png</td>\n    </tr>\n    <tr>\n      <th>...</th>\n      <td>...</td>\n      <td>...</td>\n      <td>...</td>\n      <td>...</td>\n    </tr>\n    <tr>\n      <th>1995</th>\n      <td>307a15aebca02b38</td>\n      <td>5.08</td>\n      <td>1</td>\n      <td>./images/307a15aebca02b38.png</td>\n    </tr>\n    <tr>\n      <th>1996</th>\n      <td>9c85020f7a7bdf6b</td>\n      <td>0.30</td>\n      <td>2</td>\n      <td>./images/9c85020f7a7bdf6b.png</td>\n    </tr>\n    <tr>\n      <th>1997</th>\n      <td>b02b3492e6b7cd6b</td>\n      <td>1.44</td>\n      <td>1</td>\n      <td>./images/b02b3492e6b7cd6b.png</td>\n    </tr>\n    <tr>\n      <th>1998</th>\n      <td>21dd1ee9b54261af</td>\n      <td>2.50</td>\n      <td>1</td>\n      <td>./images/21dd1ee9b54261af.png</td>\n    </tr>\n    <tr>\n      <th>1999</th>\n      <td>cf63e5026eb6d155</td>\n      <td>40.00</td>\n      <td>1</td>\n      <td>./images/cf63e5026eb6d155.png</td>\n    </tr>\n  </tbody>\n</table>\n<p>2000 rows × 4 columns</p>\n</div>"
     },
     "execution_count": 147,
     "metadata": {},
     "output_type": "execute_result"
    }
   ],
   "source": [
    "train_data_original"
   ],
   "metadata": {
    "collapsed": false,
    "ExecuteTime": {
     "end_time": "2023-09-07T17:10:02.700326100Z",
     "start_time": "2023-09-07T17:10:02.657399700Z"
    }
   },
   "id": "f57cd68cd183dd2e"
  },
  {
   "cell_type": "code",
   "execution_count": 150,
   "outputs": [],
   "source": [
    "train_data = train_data_original.drop(train_data_original[train_data_original[\"price\"] > 20].index)"
   ],
   "metadata": {
    "collapsed": false,
    "ExecuteTime": {
     "end_time": "2023-09-07T17:10:42.841776700Z",
     "start_time": "2023-09-07T17:10:42.710142300Z"
    }
   },
   "id": "665400718fe7697f"
  },
  {
   "cell_type": "code",
   "execution_count": 151,
   "outputs": [
    {
     "data": {
      "text/plain": "                    id  price  speed                          image\n0     7d46fd31038904e2   2.13      1  ./images/7d46fd31038904e2.png\n1     76690b9129b9895c   0.46  10080  ./images/76690b9129b9895c.png\n2     c5f9966acce22205  10.00      2  ./images/c5f9966acce22205.png\n3     dfcbc3748fa8e4ba   2.00  10080  ./images/dfcbc3748fa8e4ba.png\n4     eefb9c589f2ad43a   1.00     10  ./images/eefb9c589f2ad43a.png\n...                ...    ...    ...                            ...\n1994  36048d3c9d0cd992   9.90      1  ./images/36048d3c9d0cd992.png\n1995  307a15aebca02b38   5.08      1  ./images/307a15aebca02b38.png\n1996  9c85020f7a7bdf6b   0.30      2  ./images/9c85020f7a7bdf6b.png\n1997  b02b3492e6b7cd6b   1.44      1  ./images/b02b3492e6b7cd6b.png\n1998  21dd1ee9b54261af   2.50      1  ./images/21dd1ee9b54261af.png\n\n[1712 rows x 4 columns]",
      "text/html": "<div>\n<style scoped>\n    .dataframe tbody tr th:only-of-type {\n        vertical-align: middle;\n    }\n\n    .dataframe tbody tr th {\n        vertical-align: top;\n    }\n\n    .dataframe thead th {\n        text-align: right;\n    }\n</style>\n<table border=\"1\" class=\"dataframe\">\n  <thead>\n    <tr style=\"text-align: right;\">\n      <th></th>\n      <th>id</th>\n      <th>price</th>\n      <th>speed</th>\n      <th>image</th>\n    </tr>\n  </thead>\n  <tbody>\n    <tr>\n      <th>0</th>\n      <td>7d46fd31038904e2</td>\n      <td>2.13</td>\n      <td>1</td>\n      <td>./images/7d46fd31038904e2.png</td>\n    </tr>\n    <tr>\n      <th>1</th>\n      <td>76690b9129b9895c</td>\n      <td>0.46</td>\n      <td>10080</td>\n      <td>./images/76690b9129b9895c.png</td>\n    </tr>\n    <tr>\n      <th>2</th>\n      <td>c5f9966acce22205</td>\n      <td>10.00</td>\n      <td>2</td>\n      <td>./images/c5f9966acce22205.png</td>\n    </tr>\n    <tr>\n      <th>3</th>\n      <td>dfcbc3748fa8e4ba</td>\n      <td>2.00</td>\n      <td>10080</td>\n      <td>./images/dfcbc3748fa8e4ba.png</td>\n    </tr>\n    <tr>\n      <th>4</th>\n      <td>eefb9c589f2ad43a</td>\n      <td>1.00</td>\n      <td>10</td>\n      <td>./images/eefb9c589f2ad43a.png</td>\n    </tr>\n    <tr>\n      <th>...</th>\n      <td>...</td>\n      <td>...</td>\n      <td>...</td>\n      <td>...</td>\n    </tr>\n    <tr>\n      <th>1994</th>\n      <td>36048d3c9d0cd992</td>\n      <td>9.90</td>\n      <td>1</td>\n      <td>./images/36048d3c9d0cd992.png</td>\n    </tr>\n    <tr>\n      <th>1995</th>\n      <td>307a15aebca02b38</td>\n      <td>5.08</td>\n      <td>1</td>\n      <td>./images/307a15aebca02b38.png</td>\n    </tr>\n    <tr>\n      <th>1996</th>\n      <td>9c85020f7a7bdf6b</td>\n      <td>0.30</td>\n      <td>2</td>\n      <td>./images/9c85020f7a7bdf6b.png</td>\n    </tr>\n    <tr>\n      <th>1997</th>\n      <td>b02b3492e6b7cd6b</td>\n      <td>1.44</td>\n      <td>1</td>\n      <td>./images/b02b3492e6b7cd6b.png</td>\n    </tr>\n    <tr>\n      <th>1998</th>\n      <td>21dd1ee9b54261af</td>\n      <td>2.50</td>\n      <td>1</td>\n      <td>./images/21dd1ee9b54261af.png</td>\n    </tr>\n  </tbody>\n</table>\n<p>1712 rows × 4 columns</p>\n</div>"
     },
     "execution_count": 151,
     "metadata": {},
     "output_type": "execute_result"
    }
   ],
   "source": [
    "train_data"
   ],
   "metadata": {
    "collapsed": false,
    "ExecuteTime": {
     "end_time": "2023-09-07T17:10:44.660888700Z",
     "start_time": "2023-09-07T17:10:44.632463200Z"
    }
   },
   "id": "e46a757bd1dbfee9"
  },
  {
   "cell_type": "code",
   "execution_count": 152,
   "outputs": [
    {
     "data": {
      "text/plain": "<AxesSubplot:xlabel='price'>"
     },
     "execution_count": 152,
     "metadata": {},
     "output_type": "execute_result"
    },
    {
     "data": {
      "text/plain": "<Figure size 432x288 with 1 Axes>",
      "image/png": "[encoded data removed]"
     },
     "metadata": {},
     "output_type": "display_data"
    }
   ],
   "source": [
    "sns.boxplot(x=train_data[\"price\"])"
   ],
   "metadata": {
    "collapsed": false,
    "ExecuteTime": {
     "end_time": "2023-09-07T17:10:47.361200200Z",
     "start_time": "2023-09-07T17:10:47.253459700Z"
    }
   },
   "id": "af605d688186a27b"
  },
  {
   "cell_type": "code",
   "execution_count": 153,
   "outputs": [
    {
     "data": {
      "text/plain": "<AxesSubplot:xlabel='speed', ylabel='price'>"
     },
     "execution_count": 153,
     "metadata": {},
     "output_type": "execute_result"
    },
    {
     "data": {
      "text/plain": "<Figure size 432x288 with 1 Axes>",
      "image/png": "[encoded data removed]"
     },
     "metadata": {},
     "output_type": "display_data"
    }
   ],
   "source": [
    "# the relation between speed and price\n",
    "sns.lineplot(data=train_data, x=\"speed\", y=\"price\", errorbar=None)\n",
    "# it seems that generally very long cooling time corresponds to lower prices"
   ],
   "metadata": {
    "collapsed": false,
    "ExecuteTime": {
     "end_time": "2023-09-07T17:10:49.762808400Z",
     "start_time": "2023-09-07T17:10:49.585123600Z"
    }
   },
   "id": "b9c03de94adb427f"
  },
  {
   "cell_type": "code",
   "execution_count": 154,
   "outputs": [
    {
     "data": {
      "text/plain": "<AxesSubplot:>"
     },
     "execution_count": 154,
     "metadata": {},
     "output_type": "execute_result"
    },
    {
     "data": {
      "text/plain": "<Figure size 432x288 with 2 Axes>",
      "image/png": "[encoded data removed]"
     },
     "metadata": {},
     "output_type": "display_data"
    }
   ],
   "source": [
    "# the correlation matrix ssuggests the same kind of weak correlation\n",
    "sns.heatmap(train_data.corr(), annot=True)"
   ],
   "metadata": {
    "collapsed": false,
    "ExecuteTime": {
     "end_time": "2023-09-07T17:17:49.422822400Z",
     "start_time": "2023-09-07T17:17:49.183378400Z"
    }
   },
   "id": "a5b16800bacf2cb2"
  },
  {
   "cell_type": "markdown",
   "source": [],
   "metadata": {
    "collapsed": false
   },
   "id": "4df0bee107fdb96b"
  }
 ],
 "metadata": {
  "kernelspec": {
   "display_name": "Python 3",
   "language": "python",
   "name": "python3"
  },
  "language_info": {
   "codemirror_mode": {
    "name": "ipython",
    "version": 2
   },
   "file_extension": ".py",
   "mimetype": "text/x-python",
   "name": "python",
   "nbconvert_exporter": "python",
   "pygments_lexer": "ipython2",
   "version": "2.7.6"
  }
 },
 "nbformat": 4,
 "nbformat_minor": 5
}
