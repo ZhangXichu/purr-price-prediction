{
 "cells": [
  {
   "cell_type": "code",
   "execution_count": 1,
   "id": "initial_id",
   "metadata": {
    "ExecuteTime": {
     "end_time": "2023-09-08T17:41:33.335796800Z",
     "start_time": "2023-09-08T17:41:31.084342900Z"
    }
   },
   "outputs": [],
   "source": [
    "import pandas as pd\n",
    "import matplotlib.pyplot as plt\n",
    "import seaborn as sns\n",
    "import numpy as np\n",
    "from scipy import stats, linalg\n",
    "import torch\n",
    "from fastai.vision.all import *\n",
    "import image_tabular\n",
    "import re\n",
    "import os\n",
    "import shutil\n",
    "import stat\n",
    "import random\n",
    "from torchvision import models\n",
    "import timm"
   ]
  },
  {
   "cell_type": "code",
   "execution_count": 2,
   "id": "13ac0e6627a87843",
   "metadata": {
    "ExecuteTime": {
     "end_time": "2023-09-08T17:42:19.905099200Z",
     "start_time": "2023-09-08T17:42:19.876961600Z"
    }
   },
   "outputs": [],
   "source": [
    "train_data = pd.read_csv(\"C:/worksspace/purr-price-prediction/train.csv\")\n",
    "test_data = pd.read_csv(\"C:/worksspace/purr-price-prediction/test.csv\")\n",
    "\n",
    "# approach: (1) use only images to predict (2) image combined with tabular data, for this purpose we will use the library image_tabular\n",
    "# but image-tabular doesn't seem to be maintained anymore\n",
    "# what is cool down time? "
   ]
  },
  {
   "cell_type": "code",
   "execution_count": 3,
   "id": "fbbd6caf6169082",
   "metadata": {
    "ExecuteTime": {
     "end_time": "2023-09-08T17:42:20.280593Z",
     "start_time": "2023-09-08T17:42:20.148270300Z"
    }
   },
   "outputs": [
    {
     "data": {
      "text/html": [
       "<div>\n",
       "<style scoped>\n",
       "    .dataframe tbody tr th:only-of-type {\n",
       "        vertical-align: middle;\n",
       "    }\n",
       "\n",
       "    .dataframe tbody tr th {\n",
       "        vertical-align: top;\n",
       "    }\n",
       "\n",
       "    .dataframe thead th {\n",
       "        text-align: right;\n",
       "    }\n",
       "</style>\n",
       "<table border=\"1\" class=\"dataframe\">\n",
       "  <thead>\n",
       "    <tr style=\"text-align: right;\">\n",
       "      <th></th>\n",
       "      <th>id</th>\n",
       "      <th>price</th>\n",
       "      <th>speed</th>\n",
       "      <th>image</th>\n",
       "    </tr>\n",
       "  </thead>\n",
       "  <tbody>\n",
       "    <tr>\n",
       "      <th>0</th>\n",
       "      <td>7d46fd31038904e2</td>\n",
       "      <td>2.13</td>\n",
       "      <td>Fast (1m)</td>\n",
       "      <td>./images/7d46fd31038904e2.png</td>\n",
       "    </tr>\n",
       "    <tr>\n",
       "      <th>1</th>\n",
       "      <td>76690b9129b9895c</td>\n",
       "      <td>0.46</td>\n",
       "      <td>Catatonic (1w)</td>\n",
       "      <td>./images/76690b9129b9895c.png</td>\n",
       "    </tr>\n",
       "    <tr>\n",
       "      <th>2</th>\n",
       "      <td>c5f9966acce22205</td>\n",
       "      <td>10</td>\n",
       "      <td>Swift (2m)</td>\n",
       "      <td>./images/c5f9966acce22205.png</td>\n",
       "    </tr>\n",
       "    <tr>\n",
       "      <th>3</th>\n",
       "      <td>dfcbc3748fa8e4ba</td>\n",
       "      <td>2</td>\n",
       "      <td>Catatonic (1w)</td>\n",
       "      <td>./images/dfcbc3748fa8e4ba.png</td>\n",
       "    </tr>\n",
       "    <tr>\n",
       "      <th>4</th>\n",
       "      <td>eefb9c589f2ad43a</td>\n",
       "      <td>1</td>\n",
       "      <td>Snappy (10m)</td>\n",
       "      <td>./images/eefb9c589f2ad43a.png</td>\n",
       "    </tr>\n",
       "    <tr>\n",
       "      <th>...</th>\n",
       "      <td>...</td>\n",
       "      <td>...</td>\n",
       "      <td>...</td>\n",
       "      <td>...</td>\n",
       "    </tr>\n",
       "    <tr>\n",
       "      <th>1995</th>\n",
       "      <td>307a15aebca02b38</td>\n",
       "      <td>5.08</td>\n",
       "      <td>Fast (1m)</td>\n",
       "      <td>./images/307a15aebca02b38.png</td>\n",
       "    </tr>\n",
       "    <tr>\n",
       "      <th>1996</th>\n",
       "      <td>9c85020f7a7bdf6b</td>\n",
       "      <td>0.3</td>\n",
       "      <td>Swift (2m)</td>\n",
       "      <td>./images/9c85020f7a7bdf6b.png</td>\n",
       "    </tr>\n",
       "    <tr>\n",
       "      <th>1997</th>\n",
       "      <td>b02b3492e6b7cd6b</td>\n",
       "      <td>1.44</td>\n",
       "      <td>Fast (1m)</td>\n",
       "      <td>./images/b02b3492e6b7cd6b.png</td>\n",
       "    </tr>\n",
       "    <tr>\n",
       "      <th>1998</th>\n",
       "      <td>21dd1ee9b54261af</td>\n",
       "      <td>2.5</td>\n",
       "      <td>Fast (1m)</td>\n",
       "      <td>./images/21dd1ee9b54261af.png</td>\n",
       "    </tr>\n",
       "    <tr>\n",
       "      <th>1999</th>\n",
       "      <td>cf63e5026eb6d155</td>\n",
       "      <td>40</td>\n",
       "      <td>Fast (1m)</td>\n",
       "      <td>./images/cf63e5026eb6d155.png</td>\n",
       "    </tr>\n",
       "  </tbody>\n",
       "</table>\n",
       "<p>2000 rows × 4 columns</p>\n",
       "</div>"
      ],
      "text/plain": [
       "                    id price           speed                          image\n",
       "0     7d46fd31038904e2  2.13       Fast (1m)  ./images/7d46fd31038904e2.png\n",
       "1     76690b9129b9895c  0.46  Catatonic (1w)  ./images/76690b9129b9895c.png\n",
       "2     c5f9966acce22205    10      Swift (2m)  ./images/c5f9966acce22205.png\n",
       "3     dfcbc3748fa8e4ba     2  Catatonic (1w)  ./images/dfcbc3748fa8e4ba.png\n",
       "4     eefb9c589f2ad43a     1    Snappy (10m)  ./images/eefb9c589f2ad43a.png\n",
       "...                ...   ...             ...                            ...\n",
       "1995  307a15aebca02b38  5.08       Fast (1m)  ./images/307a15aebca02b38.png\n",
       "1996  9c85020f7a7bdf6b   0.3      Swift (2m)  ./images/9c85020f7a7bdf6b.png\n",
       "1997  b02b3492e6b7cd6b  1.44       Fast (1m)  ./images/b02b3492e6b7cd6b.png\n",
       "1998  21dd1ee9b54261af   2.5       Fast (1m)  ./images/21dd1ee9b54261af.png\n",
       "1999  cf63e5026eb6d155    40       Fast (1m)  ./images/cf63e5026eb6d155.png\n",
       "\n",
       "[2000 rows x 4 columns]"
      ]
     },
     "execution_count": 3,
     "metadata": {},
     "output_type": "execute_result"
    }
   ],
   "source": [
    "train_data"
   ]
  },
  {
   "cell_type": "code",
   "execution_count": 4,
   "id": "385a55b3739bd22d",
   "metadata": {
    "ExecuteTime": {
     "end_time": "2023-09-08T17:42:20.564138800Z",
     "start_time": "2023-09-08T17:42:20.446690400Z"
    }
   },
   "outputs": [
    {
     "data": {
      "text/plain": [
       "id       object\n",
       "price    object\n",
       "speed    object\n",
       "image    object\n",
       "dtype: object"
      ]
     },
     "execution_count": 4,
     "metadata": {},
     "output_type": "execute_result"
    }
   ],
   "source": [
    "train_data.dtypes"
   ]
  },
  {
   "cell_type": "code",
   "execution_count": 5,
   "id": "fca3ed9c6867649f",
   "metadata": {
    "ExecuteTime": {
     "end_time": "2023-09-08T17:42:20.730822500Z",
     "start_time": "2023-09-08T17:42:20.517921100Z"
    }
   },
   "outputs": [
    {
     "data": {
      "text/html": [
       "<div>\n",
       "<style scoped>\n",
       "    .dataframe tbody tr th:only-of-type {\n",
       "        vertical-align: middle;\n",
       "    }\n",
       "\n",
       "    .dataframe tbody tr th {\n",
       "        vertical-align: top;\n",
       "    }\n",
       "\n",
       "    .dataframe thead th {\n",
       "        text-align: right;\n",
       "    }\n",
       "</style>\n",
       "<table border=\"1\" class=\"dataframe\">\n",
       "  <thead>\n",
       "    <tr style=\"text-align: right;\">\n",
       "      <th></th>\n",
       "      <th>id</th>\n",
       "      <th>price</th>\n",
       "      <th>speed</th>\n",
       "      <th>image</th>\n",
       "    </tr>\n",
       "  </thead>\n",
       "  <tbody>\n",
       "    <tr>\n",
       "      <th>169</th>\n",
       "      <td>f3d35c91c9326e2f</td>\n",
       "      <td>1,000,000</td>\n",
       "      <td>Fast (1m)</td>\n",
       "      <td>./images/f3d35c91c9326e2f.png</td>\n",
       "    </tr>\n",
       "    <tr>\n",
       "      <th>492</th>\n",
       "      <td>d8f329f21806993d</td>\n",
       "      <td>19,999.995</td>\n",
       "      <td>Swift (2m)</td>\n",
       "      <td>./images/d8f329f21806993d.png</td>\n",
       "    </tr>\n",
       "    <tr>\n",
       "      <th>1750</th>\n",
       "      <td>8710ef3010f0f6bc</td>\n",
       "      <td>10,000</td>\n",
       "      <td>Fast (1m)</td>\n",
       "      <td>./images/8710ef3010f0f6bc.png</td>\n",
       "    </tr>\n",
       "    <tr>\n",
       "      <th>1938</th>\n",
       "      <td>ef35cc81fb7967c3</td>\n",
       "      <td>15,000</td>\n",
       "      <td>Fast (1m)</td>\n",
       "      <td>./images/ef35cc81fb7967c3.png</td>\n",
       "    </tr>\n",
       "  </tbody>\n",
       "</table>\n",
       "</div>"
      ],
      "text/plain": [
       "                    id       price       speed                          image\n",
       "169   f3d35c91c9326e2f   1,000,000   Fast (1m)  ./images/f3d35c91c9326e2f.png\n",
       "492   d8f329f21806993d  19,999.995  Swift (2m)  ./images/d8f329f21806993d.png\n",
       "1750  8710ef3010f0f6bc      10,000   Fast (1m)  ./images/8710ef3010f0f6bc.png\n",
       "1938  ef35cc81fb7967c3      15,000   Fast (1m)  ./images/ef35cc81fb7967c3.png"
      ]
     },
     "execution_count": 5,
     "metadata": {},
     "output_type": "execute_result"
    }
   ],
   "source": [
    "# firstly, we want to checkout how the speed influences the price (correlation, genral trend)\n",
    "\n",
    "train_data[train_data[\"price\"].str.contains(\",\")]"
   ]
  },
  {
   "cell_type": "code",
   "execution_count": 6,
   "id": "ac4f153a37d7a916",
   "metadata": {
    "ExecuteTime": {
     "end_time": "2023-09-08T17:42:21.337291500Z",
     "start_time": "2023-09-08T17:42:21.310003800Z"
    }
   },
   "outputs": [],
   "source": [
    "train_data[\"price\"] = train_data[\"price\"].apply(lambda x : x.replace(\",\",\"\") if \",\" in x else x)"
   ]
  },
  {
   "cell_type": "code",
   "execution_count": 7,
   "id": "41830c88916fde60",
   "metadata": {
    "ExecuteTime": {
     "end_time": "2023-09-08T17:42:21.606334300Z",
     "start_time": "2023-09-08T17:42:21.578104600Z"
    }
   },
   "outputs": [
    {
     "data": {
      "text/html": [
       "<div>\n",
       "<style scoped>\n",
       "    .dataframe tbody tr th:only-of-type {\n",
       "        vertical-align: middle;\n",
       "    }\n",
       "\n",
       "    .dataframe tbody tr th {\n",
       "        vertical-align: top;\n",
       "    }\n",
       "\n",
       "    .dataframe thead th {\n",
       "        text-align: right;\n",
       "    }\n",
       "</style>\n",
       "<table border=\"1\" class=\"dataframe\">\n",
       "  <thead>\n",
       "    <tr style=\"text-align: right;\">\n",
       "      <th></th>\n",
       "      <th>id</th>\n",
       "      <th>price</th>\n",
       "      <th>speed</th>\n",
       "      <th>image</th>\n",
       "    </tr>\n",
       "  </thead>\n",
       "  <tbody>\n",
       "  </tbody>\n",
       "</table>\n",
       "</div>"
      ],
      "text/plain": [
       "Empty DataFrame\n",
       "Columns: [id, price, speed, image]\n",
       "Index: []"
      ]
     },
     "execution_count": 7,
     "metadata": {},
     "output_type": "execute_result"
    }
   ],
   "source": [
    "train_data[train_data[\"price\"].str.contains(\",\")]"
   ]
  },
  {
   "cell_type": "code",
   "execution_count": 8,
   "id": "f4178ee89f824c4e",
   "metadata": {
    "ExecuteTime": {
     "end_time": "2023-09-08T17:42:21.881523200Z",
     "start_time": "2023-09-08T17:42:21.844109100Z"
    }
   },
   "outputs": [],
   "source": [
    "train_data[\"price\"] = train_data[(\"price\")].astype(float)"
   ]
  },
  {
   "cell_type": "code",
   "execution_count": 9,
   "id": "c3de256bca10d32f",
   "metadata": {
    "ExecuteTime": {
     "end_time": "2023-09-08T17:42:22.119796700Z",
     "start_time": "2023-09-08T17:42:22.092509900Z"
    }
   },
   "outputs": [
    {
     "data": {
      "text/plain": [
       "array(['Fast (1m)', 'Catatonic (1w)', 'Swift (2m)', 'Snappy (10m)',\n",
       "       'Swift (5m)', 'Snappy (30m)', 'Brisk (1h)', 'Slow (16h)',\n",
       "       'Plodding (4h)', 'Plodding (8h)', 'Brisk (2h)', 'Sluggish (4d)',\n",
       "       'Sluggish (2d)', 'Slow (24h)'], dtype=object)"
      ]
     },
     "execution_count": 9,
     "metadata": {},
     "output_type": "execute_result"
    }
   ],
   "source": [
    "train_data[\"speed\"].unique()"
   ]
  },
  {
   "cell_type": "code",
   "execution_count": 10,
   "id": "d21c3b9dbcc3549b",
   "metadata": {
    "ExecuteTime": {
     "end_time": "2023-09-08T17:42:22.939092100Z",
     "start_time": "2023-09-08T17:42:22.912613300Z"
    }
   },
   "outputs": [],
   "source": [
    "# re.search(r\"\\(([A-Za-z0-9]+)\\)\", 'Snappy (10m)').group(1)\n",
    "def get_time(s):\n",
    "    res_str = re.search(r\"\\(([A-Za-z0-9]+)\\)\", s).group(1)\n",
    "    res = parse_time_string(res_str)\n",
    "    return res\n",
    "\n",
    "# we want to convert all time strings to numbers (unit is minute)\n",
    "def parse_time_string(s):\n",
    "    items = re.match(r\"([0-9]+)([a-z]+)\", s, re.I).groups()\n",
    "    num = int(items[0])\n",
    "    unit = items[1]\n",
    "    if \"m\" in unit:\n",
    "        return num\n",
    "    elif \"h\" in unit:\n",
    "        return 60 * num\n",
    "    elif \"d\" in unit:\n",
    "        return 60 * 24 * num\n",
    "    else: # \"w\"\n",
    "        return 60 * 24 * 7 * num"
   ]
  },
  {
   "cell_type": "code",
   "execution_count": 11,
   "id": "cc7bb94969ce2a73",
   "metadata": {
    "ExecuteTime": {
     "end_time": "2023-09-08T17:14:53.764536Z",
     "start_time": "2023-09-08T17:14:53.699436800Z"
    }
   },
   "outputs": [
    {
     "data": {
      "text/plain": [
       "True"
      ]
     },
     "execution_count": 11,
     "metadata": {},
     "output_type": "execute_result"
    }
   ],
   "source": [
    "stuff = re.match(r\"([0-9]+)([a-z]+)\", \"10m\", re.I).groups()\n",
    "\"m\" in stuff[1]"
   ]
  },
  {
   "cell_type": "code",
   "execution_count": 12,
   "id": "b2e04e97b76338b7",
   "metadata": {
    "ExecuteTime": {
     "end_time": "2023-09-08T17:42:50.108178100Z",
     "start_time": "2023-09-08T17:42:50.092117100Z"
    }
   },
   "outputs": [],
   "source": [
    "train_data[\"speed\"] = train_data[\"speed\"].apply(lambda x: get_time(x))"
   ]
  },
  {
   "cell_type": "code",
   "execution_count": 13,
   "id": "44ec3335602e3a07",
   "metadata": {
    "ExecuteTime": {
     "end_time": "2023-09-08T17:42:50.456318400Z",
     "start_time": "2023-09-08T17:42:50.428058800Z"
    }
   },
   "outputs": [
    {
     "data": {
      "text/plain": [
       "0       7d46fd31038904e2\n",
       "1       76690b9129b9895c\n",
       "2       c5f9966acce22205\n",
       "3       dfcbc3748fa8e4ba\n",
       "4       eefb9c589f2ad43a\n",
       "              ...       \n",
       "1995    307a15aebca02b38\n",
       "1996    9c85020f7a7bdf6b\n",
       "1997    b02b3492e6b7cd6b\n",
       "1998    21dd1ee9b54261af\n",
       "1999    cf63e5026eb6d155\n",
       "Name: id, Length: 2000, dtype: object"
      ]
     },
     "execution_count": 13,
     "metadata": {},
     "output_type": "execute_result"
    }
   ],
   "source": [
    "train_data[\"id\"]"
   ]
  },
  {
   "cell_type": "code",
   "execution_count": 14,
   "id": "5ffef465513ef73b",
   "metadata": {
    "ExecuteTime": {
     "end_time": "2023-09-08T17:42:50.889695900Z",
     "start_time": "2023-09-08T17:42:50.648654Z"
    }
   },
   "outputs": [
    {
     "data": {
      "text/plain": [
       "id        object\n",
       "price    float64\n",
       "speed      int64\n",
       "image     object\n",
       "dtype: object"
      ]
     },
     "execution_count": 14,
     "metadata": {},
     "output_type": "execute_result"
    }
   ],
   "source": [
    "train_data.dtypes"
   ]
  },
  {
   "cell_type": "code",
   "execution_count": 15,
   "id": "a7b81ea2997d3134",
   "metadata": {
    "ExecuteTime": {
     "end_time": "2023-09-08T17:42:51.317590700Z",
     "start_time": "2023-09-08T17:42:50.929235300Z"
    }
   },
   "outputs": [
    {
     "data": {
      "text/plain": [
       "<AxesSubplot:xlabel='speed', ylabel='Count'>"
      ]
     },
     "execution_count": 15,
     "metadata": {},
     "output_type": "execute_result"
    },
    {
     "data": {
      "image/png": "[encoded data removed]",
      "text/plain": [
       "<Figure size 432x288 with 1 Axes>"
      ]
     },
     "metadata": {
      "needs_background": "light"
     },
     "output_type": "display_data"
    }
   ],
   "source": [
    "sns.histplot(data=train_data, x=\"speed\")\n",
    "# when plotting count or density, be careful with continuous data"
   ]
  },
  {
   "cell_type": "code",
   "execution_count": 16,
   "id": "a1c8b05c3c616d86",
   "metadata": {
    "ExecuteTime": {
     "end_time": "2023-09-08T17:42:52.418705200Z",
     "start_time": "2023-09-08T17:42:51.287394500Z"
    }
   },
   "outputs": [
    {
     "data": {
      "text/plain": [
       "<seaborn.axisgrid.FacetGrid at 0x26ef5752230>"
      ]
     },
     "execution_count": 16,
     "metadata": {},
     "output_type": "execute_result"
    },
    {
     "data": {
      "image/png": "[encoded data removed]",
      "text/plain": [
       "<Figure size 360x360 with 1 Axes>"
      ]
     },
     "metadata": {
      "needs_background": "light"
     },
     "output_type": "display_data"
    }
   ],
   "source": [
    "sns.displot(x=train_data[\"price\"], bins=25, kde=True)"
   ]
  },
  {
   "cell_type": "code",
   "execution_count": 17,
   "id": "d17a607feb1b5ab4",
   "metadata": {
    "ExecuteTime": {
     "end_time": "2023-09-08T17:42:52.544098500Z",
     "start_time": "2023-09-08T17:42:52.285219700Z"
    }
   },
   "outputs": [
    {
     "data": {
      "text/plain": [
       "<AxesSubplot:xlabel='price'>"
      ]
     },
     "execution_count": 17,
     "metadata": {},
     "output_type": "execute_result"
    },
    {
     "data": {
      "image/png": "[encoded data removed]",
      "text/plain": [
       "<Figure size 432x288 with 1 Axes>"
      ]
     },
     "metadata": {
      "needs_background": "light"
     },
     "output_type": "display_data"
    }
   ],
   "source": [
    "sns.boxplot(x=train_data[\"price\"])"
   ]
  },
  {
   "cell_type": "code",
   "execution_count": 18,
   "id": "566edf95e374fdef",
   "metadata": {
    "ExecuteTime": {
     "end_time": "2023-09-08T17:42:52.606684300Z",
     "start_time": "2023-09-08T17:42:52.422695100Z"
    }
   },
   "outputs": [],
   "source": [
    "# back up the original data\n",
    "train_data_original = train_data"
   ]
  },
  {
   "cell_type": "code",
   "execution_count": 19,
   "id": "f57cd68cd183dd2e",
   "metadata": {
    "ExecuteTime": {
     "end_time": "2023-09-08T17:42:52.913328200Z",
     "start_time": "2023-09-08T17:42:52.438637400Z"
    }
   },
   "outputs": [
    {
     "data": {
      "text/html": [
       "<div>\n",
       "<style scoped>\n",
       "    .dataframe tbody tr th:only-of-type {\n",
       "        vertical-align: middle;\n",
       "    }\n",
       "\n",
       "    .dataframe tbody tr th {\n",
       "        vertical-align: top;\n",
       "    }\n",
       "\n",
       "    .dataframe thead th {\n",
       "        text-align: right;\n",
       "    }\n",
       "</style>\n",
       "<table border=\"1\" class=\"dataframe\">\n",
       "  <thead>\n",
       "    <tr style=\"text-align: right;\">\n",
       "      <th></th>\n",
       "      <th>id</th>\n",
       "      <th>price</th>\n",
       "      <th>speed</th>\n",
       "      <th>image</th>\n",
       "    </tr>\n",
       "  </thead>\n",
       "  <tbody>\n",
       "    <tr>\n",
       "      <th>0</th>\n",
       "      <td>7d46fd31038904e2</td>\n",
       "      <td>2.13</td>\n",
       "      <td>1</td>\n",
       "      <td>./images/7d46fd31038904e2.png</td>\n",
       "    </tr>\n",
       "    <tr>\n",
       "      <th>1</th>\n",
       "      <td>76690b9129b9895c</td>\n",
       "      <td>0.46</td>\n",
       "      <td>10080</td>\n",
       "      <td>./images/76690b9129b9895c.png</td>\n",
       "    </tr>\n",
       "    <tr>\n",
       "      <th>2</th>\n",
       "      <td>c5f9966acce22205</td>\n",
       "      <td>10.00</td>\n",
       "      <td>2</td>\n",
       "      <td>./images/c5f9966acce22205.png</td>\n",
       "    </tr>\n",
       "    <tr>\n",
       "      <th>3</th>\n",
       "      <td>dfcbc3748fa8e4ba</td>\n",
       "      <td>2.00</td>\n",
       "      <td>10080</td>\n",
       "      <td>./images/dfcbc3748fa8e4ba.png</td>\n",
       "    </tr>\n",
       "    <tr>\n",
       "      <th>4</th>\n",
       "      <td>eefb9c589f2ad43a</td>\n",
       "      <td>1.00</td>\n",
       "      <td>10</td>\n",
       "      <td>./images/eefb9c589f2ad43a.png</td>\n",
       "    </tr>\n",
       "    <tr>\n",
       "      <th>...</th>\n",
       "      <td>...</td>\n",
       "      <td>...</td>\n",
       "      <td>...</td>\n",
       "      <td>...</td>\n",
       "    </tr>\n",
       "    <tr>\n",
       "      <th>1995</th>\n",
       "      <td>307a15aebca02b38</td>\n",
       "      <td>5.08</td>\n",
       "      <td>1</td>\n",
       "      <td>./images/307a15aebca02b38.png</td>\n",
       "    </tr>\n",
       "    <tr>\n",
       "      <th>1996</th>\n",
       "      <td>9c85020f7a7bdf6b</td>\n",
       "      <td>0.30</td>\n",
       "      <td>2</td>\n",
       "      <td>./images/9c85020f7a7bdf6b.png</td>\n",
       "    </tr>\n",
       "    <tr>\n",
       "      <th>1997</th>\n",
       "      <td>b02b3492e6b7cd6b</td>\n",
       "      <td>1.44</td>\n",
       "      <td>1</td>\n",
       "      <td>./images/b02b3492e6b7cd6b.png</td>\n",
       "    </tr>\n",
       "    <tr>\n",
       "      <th>1998</th>\n",
       "      <td>21dd1ee9b54261af</td>\n",
       "      <td>2.50</td>\n",
       "      <td>1</td>\n",
       "      <td>./images/21dd1ee9b54261af.png</td>\n",
       "    </tr>\n",
       "    <tr>\n",
       "      <th>1999</th>\n",
       "      <td>cf63e5026eb6d155</td>\n",
       "      <td>40.00</td>\n",
       "      <td>1</td>\n",
       "      <td>./images/cf63e5026eb6d155.png</td>\n",
       "    </tr>\n",
       "  </tbody>\n",
       "</table>\n",
       "<p>2000 rows × 4 columns</p>\n",
       "</div>"
      ],
      "text/plain": [
       "                    id  price  speed                          image\n",
       "0     7d46fd31038904e2   2.13      1  ./images/7d46fd31038904e2.png\n",
       "1     76690b9129b9895c   0.46  10080  ./images/76690b9129b9895c.png\n",
       "2     c5f9966acce22205  10.00      2  ./images/c5f9966acce22205.png\n",
       "3     dfcbc3748fa8e4ba   2.00  10080  ./images/dfcbc3748fa8e4ba.png\n",
       "4     eefb9c589f2ad43a   1.00     10  ./images/eefb9c589f2ad43a.png\n",
       "...                ...    ...    ...                            ...\n",
       "1995  307a15aebca02b38   5.08      1  ./images/307a15aebca02b38.png\n",
       "1996  9c85020f7a7bdf6b   0.30      2  ./images/9c85020f7a7bdf6b.png\n",
       "1997  b02b3492e6b7cd6b   1.44      1  ./images/b02b3492e6b7cd6b.png\n",
       "1998  21dd1ee9b54261af   2.50      1  ./images/21dd1ee9b54261af.png\n",
       "1999  cf63e5026eb6d155  40.00      1  ./images/cf63e5026eb6d155.png\n",
       "\n",
       "[2000 rows x 4 columns]"
      ]
     },
     "execution_count": 19,
     "metadata": {},
     "output_type": "execute_result"
    }
   ],
   "source": [
    "train_data_original"
   ]
  },
  {
   "cell_type": "code",
   "execution_count": 20,
   "id": "b58f4a51",
   "metadata": {},
   "outputs": [],
   "source": [
    "train_data = train_data_original"
   ]
  },
  {
   "cell_type": "code",
   "execution_count": 21,
   "id": "665400718fe7697f",
   "metadata": {
    "ExecuteTime": {
     "end_time": "2023-09-08T17:42:52.950689100Z",
     "start_time": "2023-09-08T17:42:52.546186700Z"
    }
   },
   "outputs": [],
   "source": [
    "train_data = train_data_original.drop(train_data_original[train_data_original[\"price\"] > 25].index)"
   ]
  },
  {
   "cell_type": "code",
   "execution_count": 22,
   "id": "ec0ac2b0",
   "metadata": {},
   "outputs": [
    {
     "data": {
      "text/plain": [
       "Int64Index([ 119,  172,  266,  372,  444,  574,  603,  680,  733,  780,  782,\n",
       "             859, 1036, 1044, 1078, 1419, 1697, 1729, 1736, 1814, 1903],\n",
       "           dtype='int64')"
      ]
     },
     "execution_count": 22,
     "metadata": {},
     "output_type": "execute_result"
    }
   ],
   "source": [
    "largest_indices = train_data.nlargest(21, [\"price\"]).index\n",
    "largest_indices"
   ]
  },
  {
   "cell_type": "code",
   "execution_count": 23,
   "id": "95169f66",
   "metadata": {},
   "outputs": [],
   "source": [
    "train_data = train_data.drop(largest_indices)"
   ]
  },
  {
   "cell_type": "code",
   "execution_count": 24,
   "id": "e46a757bd1dbfee9",
   "metadata": {
    "ExecuteTime": {
     "end_time": "2023-09-08T17:42:52.955766Z",
     "start_time": "2023-09-08T17:42:52.670000100Z"
    }
   },
   "outputs": [
    {
     "data": {
      "text/html": [
       "<div>\n",
       "<style scoped>\n",
       "    .dataframe tbody tr th:only-of-type {\n",
       "        vertical-align: middle;\n",
       "    }\n",
       "\n",
       "    .dataframe tbody tr th {\n",
       "        vertical-align: top;\n",
       "    }\n",
       "\n",
       "    .dataframe thead th {\n",
       "        text-align: right;\n",
       "    }\n",
       "</style>\n",
       "<table border=\"1\" class=\"dataframe\">\n",
       "  <thead>\n",
       "    <tr style=\"text-align: right;\">\n",
       "      <th></th>\n",
       "      <th>id</th>\n",
       "      <th>price</th>\n",
       "      <th>speed</th>\n",
       "      <th>image</th>\n",
       "    </tr>\n",
       "  </thead>\n",
       "  <tbody>\n",
       "    <tr>\n",
       "      <th>0</th>\n",
       "      <td>7d46fd31038904e2</td>\n",
       "      <td>2.13</td>\n",
       "      <td>1</td>\n",
       "      <td>./images/7d46fd31038904e2.png</td>\n",
       "    </tr>\n",
       "    <tr>\n",
       "      <th>1</th>\n",
       "      <td>76690b9129b9895c</td>\n",
       "      <td>0.46</td>\n",
       "      <td>10080</td>\n",
       "      <td>./images/76690b9129b9895c.png</td>\n",
       "    </tr>\n",
       "    <tr>\n",
       "      <th>2</th>\n",
       "      <td>c5f9966acce22205</td>\n",
       "      <td>10.00</td>\n",
       "      <td>2</td>\n",
       "      <td>./images/c5f9966acce22205.png</td>\n",
       "    </tr>\n",
       "    <tr>\n",
       "      <th>3</th>\n",
       "      <td>dfcbc3748fa8e4ba</td>\n",
       "      <td>2.00</td>\n",
       "      <td>10080</td>\n",
       "      <td>./images/dfcbc3748fa8e4ba.png</td>\n",
       "    </tr>\n",
       "    <tr>\n",
       "      <th>4</th>\n",
       "      <td>eefb9c589f2ad43a</td>\n",
       "      <td>1.00</td>\n",
       "      <td>10</td>\n",
       "      <td>./images/eefb9c589f2ad43a.png</td>\n",
       "    </tr>\n",
       "    <tr>\n",
       "      <th>...</th>\n",
       "      <td>...</td>\n",
       "      <td>...</td>\n",
       "      <td>...</td>\n",
       "      <td>...</td>\n",
       "    </tr>\n",
       "    <tr>\n",
       "      <th>1994</th>\n",
       "      <td>36048d3c9d0cd992</td>\n",
       "      <td>9.90</td>\n",
       "      <td>1</td>\n",
       "      <td>./images/36048d3c9d0cd992.png</td>\n",
       "    </tr>\n",
       "    <tr>\n",
       "      <th>1995</th>\n",
       "      <td>307a15aebca02b38</td>\n",
       "      <td>5.08</td>\n",
       "      <td>1</td>\n",
       "      <td>./images/307a15aebca02b38.png</td>\n",
       "    </tr>\n",
       "    <tr>\n",
       "      <th>1996</th>\n",
       "      <td>9c85020f7a7bdf6b</td>\n",
       "      <td>0.30</td>\n",
       "      <td>2</td>\n",
       "      <td>./images/9c85020f7a7bdf6b.png</td>\n",
       "    </tr>\n",
       "    <tr>\n",
       "      <th>1997</th>\n",
       "      <td>b02b3492e6b7cd6b</td>\n",
       "      <td>1.44</td>\n",
       "      <td>1</td>\n",
       "      <td>./images/b02b3492e6b7cd6b.png</td>\n",
       "    </tr>\n",
       "    <tr>\n",
       "      <th>1998</th>\n",
       "      <td>21dd1ee9b54261af</td>\n",
       "      <td>2.50</td>\n",
       "      <td>1</td>\n",
       "      <td>./images/21dd1ee9b54261af.png</td>\n",
       "    </tr>\n",
       "  </tbody>\n",
       "</table>\n",
       "<p>1728 rows × 4 columns</p>\n",
       "</div>"
      ],
      "text/plain": [
       "                    id  price  speed                          image\n",
       "0     7d46fd31038904e2   2.13      1  ./images/7d46fd31038904e2.png\n",
       "1     76690b9129b9895c   0.46  10080  ./images/76690b9129b9895c.png\n",
       "2     c5f9966acce22205  10.00      2  ./images/c5f9966acce22205.png\n",
       "3     dfcbc3748fa8e4ba   2.00  10080  ./images/dfcbc3748fa8e4ba.png\n",
       "4     eefb9c589f2ad43a   1.00     10  ./images/eefb9c589f2ad43a.png\n",
       "...                ...    ...    ...                            ...\n",
       "1994  36048d3c9d0cd992   9.90      1  ./images/36048d3c9d0cd992.png\n",
       "1995  307a15aebca02b38   5.08      1  ./images/307a15aebca02b38.png\n",
       "1996  9c85020f7a7bdf6b   0.30      2  ./images/9c85020f7a7bdf6b.png\n",
       "1997  b02b3492e6b7cd6b   1.44      1  ./images/b02b3492e6b7cd6b.png\n",
       "1998  21dd1ee9b54261af   2.50      1  ./images/21dd1ee9b54261af.png\n",
       "\n",
       "[1728 rows x 4 columns]"
      ]
     },
     "execution_count": 24,
     "metadata": {},
     "output_type": "execute_result"
    }
   ],
   "source": [
    "train_data"
   ]
  },
  {
   "cell_type": "code",
   "execution_count": 25,
   "id": "af605d688186a27b",
   "metadata": {
    "ExecuteTime": {
     "end_time": "2023-09-08T17:42:54.284457900Z",
     "start_time": "2023-09-08T17:42:54.114669800Z"
    }
   },
   "outputs": [
    {
     "data": {
      "text/plain": [
       "<AxesSubplot:xlabel='price'>"
      ]
     },
     "execution_count": 25,
     "metadata": {},
     "output_type": "execute_result"
    },
    {
     "data": {
      "image/png": "[encoded data removed]",
      "text/plain": [
       "<Figure size 432x288 with 1 Axes>"
      ]
     },
     "metadata": {
      "needs_background": "light"
     },
     "output_type": "display_data"
    }
   ],
   "source": [
    "sns.boxplot(x=train_data[\"price\"])"
   ]
  },
  {
   "cell_type": "code",
   "execution_count": 26,
   "id": "b9c03de94adb427f",
   "metadata": {
    "ExecuteTime": {
     "end_time": "2023-09-08T17:42:54.651461800Z",
     "start_time": "2023-09-08T17:42:54.456278200Z"
    }
   },
   "outputs": [
    {
     "data": {
      "text/plain": [
       "<AxesSubplot:xlabel='speed', ylabel='price'>"
      ]
     },
     "execution_count": 26,
     "metadata": {},
     "output_type": "execute_result"
    },
    {
     "data": {
      "image/png": "[encoded data removed]",
      "text/plain": [
       "<Figure size 432x288 with 1 Axes>"
      ]
     },
     "metadata": {
      "needs_background": "light"
     },
     "output_type": "display_data"
    }
   ],
   "source": [
    "# the relation between speed and price\n",
    "sns.lineplot(data=train_data, x=\"speed\", y=\"price\", errorbar=None)\n",
    "# it seems that generally very long cooling time corresponds to lower prices"
   ]
  },
  {
   "cell_type": "code",
   "execution_count": 27,
   "id": "a5b16800bacf2cb2",
   "metadata": {
    "ExecuteTime": {
     "end_time": "2023-09-08T17:42:54.988867700Z",
     "start_time": "2023-09-08T17:42:54.828798300Z"
    }
   },
   "outputs": [
    {
     "data": {
      "text/plain": [
       "<AxesSubplot:>"
      ]
     },
     "execution_count": 27,
     "metadata": {},
     "output_type": "execute_result"
    },
    {
     "data": {
      "image/png": "[encoded data removed]",
      "text/plain": [
       "<Figure size 432x288 with 2 Axes>"
      ]
     },
     "metadata": {
      "needs_background": "light"
     },
     "output_type": "display_data"
    }
   ],
   "source": [
    "# the correlation matrix ssuggests the same kind of weak correlation\n",
    "sns.heatmap(train_data.corr(), annot=True)"
   ]
  },
  {
   "cell_type": "code",
   "execution_count": 28,
   "id": "61185a260e4a4cc4",
   "metadata": {
    "ExecuteTime": {
     "end_time": "2023-09-08T17:42:55.128828800Z",
     "start_time": "2023-09-08T17:42:55.093522100Z"
    }
   },
   "outputs": [],
   "source": [
    "path = Path(\"C:\\worksspace\\purr-price-prediction\\images\\images\")"
   ]
  },
  {
   "cell_type": "code",
   "execution_count": 29,
   "id": "ce4ec6089b08da7f",
   "metadata": {
    "ExecuteTime": {
     "end_time": "2023-09-08T17:42:55.301355Z",
     "start_time": "2023-09-08T17:42:55.249001300Z"
    }
   },
   "outputs": [],
   "source": [
    "full_paths_im = get_image_files(path)"
   ]
  },
  {
   "cell_type": "code",
   "execution_count": 30,
   "id": "56d8eb8d8ea50507",
   "metadata": {
    "ExecuteTime": {
     "end_time": "2023-09-08T17:42:55.482555Z",
     "start_time": "2023-09-08T17:42:55.441574700Z"
    }
   },
   "outputs": [
    {
     "data": {
      "image/png": "[encoded data removed]",
      "text/plain": [
       "<PIL.Image.Image image mode=RGB size=256x256>"
      ]
     },
     "execution_count": 30,
     "metadata": {},
     "output_type": "execute_result"
    }
   ],
   "source": [
    "# checkout the first image\n",
    "Image.open(full_paths_im[0]).to_thumb(256, 256)"
   ]
  },
  {
   "cell_type": "code",
   "execution_count": 31,
   "id": "2044b158c7f46c43",
   "metadata": {
    "ExecuteTime": {
     "end_time": "2023-09-08T17:42:56.376712500Z",
     "start_time": "2023-09-08T17:42:56.340355600Z"
    }
   },
   "outputs": [
    {
     "data": {
      "text/plain": [
       "Path('C:/worksspace/purr-price-prediction/images/images/00068810bf2226f2.png')"
      ]
     },
     "execution_count": 31,
     "metadata": {},
     "output_type": "execute_result"
    }
   ],
   "source": [
    "# test\n",
    "\n",
    "first_file_name = full_paths_im[0]\n",
    "first_file_name"
   ]
  },
  {
   "cell_type": "code",
   "execution_count": 75,
   "id": "136d595a694f1be5",
   "metadata": {
    "ExecuteTime": {
     "end_time": "2023-09-08T17:42:57.168113700Z",
     "start_time": "2023-09-08T17:42:57.145958200Z"
    }
   },
   "outputs": [
    {
     "data": {
      "text/plain": [
       "0    2.13\n",
       "Name: price, dtype: float64"
      ]
     },
     "execution_count": 75,
     "metadata": {},
     "output_type": "execute_result"
    }
   ],
   "source": [
    "# test\n",
    "\n",
    "\"png\" in first_file_name.name\n",
    "name_test = os.path.basename(\"./images/7d46fd31038904e2.png\")\n",
    "train_data.loc[train_data['image'] == \"./images/\"+name_test, \"price\"] "
   ]
  },
  {
   "cell_type": "code",
   "execution_count": 38,
   "id": "1eeab80f",
   "metadata": {},
   "outputs": [],
   "source": [
    "root_path = \"C:/worksspace/purr-price-prediction/\""
   ]
  },
  {
   "cell_type": "code",
   "execution_count": 76,
   "id": "53e68c9f7817a07b",
   "metadata": {
    "ExecuteTime": {
     "end_time": "2023-09-08T17:42:58.793042400Z",
     "start_time": "2023-09-08T17:42:58.236599800Z"
    }
   },
   "outputs": [],
   "source": [
    "# copy all the images, whose relative row is not removed from the training data\n",
    "# to a different directory\n",
    "# also we don't want to edit the original images\n",
    "root_path = \"C:/worksspace/purr-price-prediction/\"\n",
    "\n",
    "if os.listdir(root_path + \"images/images_copy/\"): # if the directory is not empty\n",
    "\n",
    "    all_files = os.listdir(root_path + \"images/images_copy/\")\n",
    "    \n",
    "    for f in all_files:\n",
    "        os.remove(root_path + \"images/images_copy/\" + f)\n",
    "\n",
    "# shutil.copyfile(src = root_path + \"images/images/7d46fd31038904e2.png\", dst = root_path + \"images/images_copy/7d46fd31038904e2.png\")"
   ]
  },
  {
   "cell_type": "code",
   "execution_count": 32,
   "id": "654fa0c47bf5824c",
   "metadata": {
    "ExecuteTime": {
     "end_time": "2023-09-08T17:43:05.191124800Z",
     "start_time": "2023-09-08T17:43:05.176065200Z"
    }
   },
   "outputs": [],
   "source": [
    "# function for getting labels, in our case it's price\n",
    "def locate_price(filename):\n",
    "    \"\"\"\n",
    "    function locates the price of an image according to the file name of the image\n",
    "    :param filename: string e.g. '00068810bf2226f2.png'\n",
    "    :return: 1x1 data frame with the price (float)\n",
    "    \"\"\"\n",
    "    return train_data.loc[train_data['image'] == \"./images/\"+ filename, \"price\"] \n",
    "\n",
    "def get_price(full_path_im):\n",
    "    \"\"\"\n",
    "    function returns the price of an image according to the full path to the image\n",
    "    :param full_path_im: Path, e.g. Path('C:/worksspace/purr-price-prediction/images/images/00068810bf2226f2.png')\n",
    "    :return: float\n",
    "    \"\"\"\n",
    "    filename = os.path.basename(full_path_im.name)\n",
    "    return float(locate_price(filename))"
   ]
  },
  {
   "cell_type": "code",
   "execution_count": 78,
   "id": "6ac47cde9b981927",
   "metadata": {
    "ExecuteTime": {
     "end_time": "2023-09-08T17:43:17.479392700Z",
     "start_time": "2023-09-08T17:43:05.987281100Z"
    }
   },
   "outputs": [],
   "source": [
    "all_original_files = os.listdir(root_path + \"images/images/\")\n",
    "\n",
    "for f in all_original_files:\n",
    "    if not locate_price(f).empty:\n",
    "        shutil.copy(src = root_path + \"images/images/\" + f, dst = root_path + \"images/images_copy/\" + f)"
   ]
  },
  {
   "cell_type": "code",
   "execution_count": 33,
   "id": "5bd633890e0ab4f9",
   "metadata": {
    "ExecuteTime": {
     "end_time": "2023-09-08T17:43:30.159932400Z",
     "start_time": "2023-09-08T17:43:30.124541700Z"
    }
   },
   "outputs": [
    {
     "data": {
      "text/plain": [
       "True"
      ]
     },
     "execution_count": 33,
     "metadata": {},
     "output_type": "execute_result"
    }
   ],
   "source": [
    "# test\n",
    "locate_price('00068810bf2226f2.png').empty"
   ]
  },
  {
   "cell_type": "code",
   "execution_count": 34,
   "id": "ae260cb9c535080e",
   "metadata": {
    "ExecuteTime": {
     "end_time": "2023-09-08T17:43:33.048675300Z",
     "start_time": "2023-09-08T17:43:33.022929900Z"
    }
   },
   "outputs": [],
   "source": [
    "\n",
    "\n",
    "# list(set(random.sample(list(train_data.index), round(num_rows))))\n",
    "\n",
    "def splitter(df):\n",
    "    num_rows = len(train_data.index)\n",
    "    \n",
    "    num_train = round(num_rows * 0.8)\n",
    "    num_valid = num_rows - num_train\n",
    "    \n",
    "    all_indices = list(train_data.index)\n",
    "    \n",
    "    train_indices = list(set(random.sample(list(train_data.index), num_train)))\n",
    "    valid_indices = [i for i in all_indices if i not in train_indices]\n",
    "    \n",
    "    return train_indices, valid_indices"
   ]
  },
  {
   "cell_type": "code",
   "execution_count": 35,
   "id": "ff0c90833dd3d419",
   "metadata": {
    "ExecuteTime": {
     "end_time": "2023-09-08T17:43:33.921842900Z",
     "start_time": "2023-09-08T17:43:33.881525100Z"
    }
   },
   "outputs": [],
   "source": [
    "dblock = DataBlock(\n",
    "    blocks = (ImageBlock, RegressionBlock),\n",
    "    get_items = get_image_files,\n",
    "    get_y = get_price,\n",
    "    splitter = RandomSplitter(),\n",
    "    item_tfms = Resize(224),\n",
    ")"
   ]
  },
  {
   "cell_type": "code",
   "execution_count": 39,
   "id": "8a1c674636aafc83",
   "metadata": {
    "ExecuteTime": {
     "end_time": "2023-09-08T17:43:34.736494700Z",
     "start_time": "2023-09-08T17:43:34.612618400Z"
    }
   },
   "outputs": [],
   "source": [
    "path = Path(root_path + \"\\images\\images_copy\")\n",
    "dsets = dblock.datasets(path)"
   ]
  },
  {
   "cell_type": "code",
   "execution_count": 40,
   "id": "de9bd544b28d28f3",
   "metadata": {
    "ExecuteTime": {
     "end_time": "2023-09-08T17:43:36.069018800Z",
     "start_time": "2023-09-08T17:43:35.843537100Z"
    }
   },
   "outputs": [
    {
     "data": {
      "text/plain": [
       "(PILImage mode=RGB size=3000x3000, tensor(10.))"
      ]
     },
     "execution_count": 40,
     "metadata": {},
     "output_type": "execute_result"
    }
   ],
   "source": [
    "dsets.train[3]"
   ]
  },
  {
   "cell_type": "code",
   "execution_count": 41,
   "id": "4d427e3ff746c97",
   "metadata": {
    "ExecuteTime": {
     "end_time": "2023-09-08T17:43:37.561191300Z",
     "start_time": "2023-09-08T17:43:37.236487100Z"
    }
   },
   "outputs": [],
   "source": [
    "dls = dblock.dataloaders(path, bs=32)"
   ]
  },
  {
   "cell_type": "code",
   "execution_count": 42,
   "id": "758426e83c6a1e6c",
   "metadata": {
    "ExecuteTime": {
     "end_time": "2023-09-08T17:15:54.354677400Z",
     "start_time": "2023-09-08T17:15:43.128144100Z"
    }
   },
   "outputs": [
    {
     "data": {
      "image/png": "[encoded data removed]",
      "text/plain": [
       "<Figure size 648x648 with 9 Axes>"
      ]
     },
     "metadata": {
      "needs_background": "light"
     },
     "output_type": "display_data"
    }
   ],
   "source": [
    "dls.show_batch()"
   ]
  },
  {
   "cell_type": "code",
   "execution_count": 43,
   "id": "abaaebec89ae5d49",
   "metadata": {
    "ExecuteTime": {
     "end_time": "2023-09-08T17:43:52.264991700Z",
     "start_time": "2023-09-08T17:43:39.970124100Z"
    }
   },
   "outputs": [
    {
     "data": {
      "text/plain": [
       "(torch.Size([32, 3, 224, 224]), torch.Size([32]))"
      ]
     },
     "execution_count": 43,
     "metadata": {},
     "output_type": "execute_result"
    }
   ],
   "source": [
    "xb,yb = dls.one_batch()\n",
    "xb.shape,yb.shape\n",
    "\n",
    "# 64 is the defaut batch size\n",
    "# dataloader converts the input image to tensor of size [3, 244, 244]\n",
    "\n",
    "# TODO: deal with the splitter, batch size"
   ]
  },
  {
   "cell_type": "code",
   "execution_count": 52,
   "id": "282b5cb1",
   "metadata": {},
   "outputs": [
    {
     "data": {
      "text/plain": [
       "1"
      ]
     },
     "execution_count": 52,
     "metadata": {},
     "output_type": "execute_result"
    }
   ],
   "source": [
    "dls.c"
   ]
  },
  {
   "cell_type": "code",
   "execution_count": 51,
   "id": "f41aed1b",
   "metadata": {},
   "outputs": [],
   "source": [
    "dls.c = 1"
   ]
  },
  {
   "cell_type": "code",
   "execution_count": 56,
   "id": "3cc6f97c20875e58",
   "metadata": {
    "ExecuteTime": {
     "end_time": "2023-09-08T19:24:24.544575400Z",
     "start_time": "2023-09-08T19:24:24.207845700Z"
    }
   },
   "outputs": [
    {
     "name": "stderr",
     "output_type": "stream",
     "text": [
      "C:\\Users\\xichu\\AppData\\Roaming\\Python\\Python310\\site-packages\\torchvision\\models\\_utils.py:208: UserWarning: The parameter 'pretrained' is deprecated since 0.13 and may be removed in the future, please use 'weights' instead.\n",
      "  warnings.warn(\n",
      "C:\\Users\\xichu\\AppData\\Roaming\\Python\\Python310\\site-packages\\torchvision\\models\\_utils.py:223: UserWarning: Arguments other than a weight enum or `None` for 'weights' are deprecated since 0.13 and may be removed in the future. The current behavior is equivalent to passing `weights=DenseNet121_Weights.IMAGENET1K_V1`. You can also use `weights=DenseNet121_Weights.DEFAULT` to get the most up-to-date weights.\n",
      "  warnings.warn(msg)\n",
      "Downloading: \"https://download.pytorch.org/models/densenet121-a639ec97.pth\" to C:\\Users\\xichu/.cache\\torch\\hub\\checkpoints\\densenet121-a639ec97.pth\n",
      "100%|██████████████████████████████████████████████████████████████████████████████████| 30.8M/30.8M [00:41<00:00, 787kB/s]\n"
     ]
    }
   ],
   "source": [
    "# learn = vision_learner(dls, models.resnet34, y_range=(0, 25))\n",
    "\n",
    "\n",
    "learn = vision_learner(dls, models.densenet121, y_range=(0, 25), \n",
    "                       loss_func = MSELossFlat(),\n",
    "                       cbs = [GradientClip, MixedPrecision()])"
   ]
  },
  {
   "cell_type": "code",
   "execution_count": 57,
   "id": "6489cbbf34c17c5",
   "metadata": {
    "ExecuteTime": {
     "end_time": "2023-09-08T18:22:22.696434700Z",
     "start_time": "2023-09-08T18:22:22.689328900Z"
    }
   },
   "outputs": [
    {
     "data": {
      "text/plain": [
       "FlattenedLoss of MSELoss()"
      ]
     },
     "execution_count": 57,
     "metadata": {},
     "output_type": "execute_result"
    }
   ],
   "source": [
    "learn.loss_func\n",
    "# FlattenedLoss of MSELoss(): mean squared error loss"
   ]
  },
  {
   "cell_type": "code",
   "execution_count": 58,
   "id": "c8a40b69e7afd92a",
   "metadata": {
    "ExecuteTime": {
     "end_time": "2023-09-08T17:08:58.173993300Z",
     "start_time": "2023-09-08T17:07:54.177517700Z"
    }
   },
   "outputs": [
    {
     "name": "stderr",
     "output_type": "stream",
     "text": [
      "C:\\Users\\xichu\\AppData\\Roaming\\Python\\Python310\\site-packages\\torch\\amp\\autocast_mode.py:204: UserWarning: User provided device_type of 'cuda', but CUDA is not available. Disabling\n",
      "  warnings.warn('User provided device_type of \\'cuda\\', but CUDA is not available. Disabling')\n",
      "C:\\Users\\xichu\\AppData\\Roaming\\Python\\Python310\\site-packages\\torch\\cuda\\amp\\grad_scaler.py:120: UserWarning: torch.cuda.amp.GradScaler is enabled, but CUDA is not available.  Disabling.\n",
      "  warnings.warn(\"torch.cuda.amp.GradScaler is enabled, but CUDA is not available.  Disabling.\")\n"
     ]
    },
    {
     "data": {
      "text/html": [
       "\n",
       "<style>\n",
       "    /* Turns off some styling */\n",
       "    progress {\n",
       "        /* gets rid of default border in Firefox and Opera. */\n",
       "        border: none;\n",
       "        /* Needs to be in here for Safari polyfill so background images work as expected. */\n",
       "        background-size: auto;\n",
       "    }\n",
       "    progress:not([value]), progress:not([value])::-webkit-progress-bar {\n",
       "        background: repeating-linear-gradient(45deg, #7e7e7e, #7e7e7e 10px, #5c5c5c 10px, #5c5c5c 20px);\n",
       "    }\n",
       "    .progress-bar-interrupted, .progress-bar-interrupted::-webkit-progress-bar {\n",
       "        background: #F44336;\n",
       "    }\n",
       "</style>\n"
      ],
      "text/plain": [
       "<IPython.core.display.HTML object>"
      ]
     },
     "metadata": {},
     "output_type": "display_data"
    },
    {
     "data": {
      "text/html": [],
      "text/plain": [
       "<IPython.core.display.HTML object>"
      ]
     },
     "metadata": {},
     "output_type": "display_data"
    },
    {
     "data": {
      "text/plain": [
       "SuggestedLRs(valley=0.02290867641568184)"
      ]
     },
     "execution_count": 58,
     "metadata": {},
     "output_type": "execute_result"
    },
    {
     "data": {
      "image/png": "[encoded data removed]",
      "text/plain": [
       "<Figure size 432x288 with 1 Axes>"
      ]
     },
     "metadata": {
      "needs_background": "light"
     },
     "output_type": "display_data"
    }
   ],
   "source": [
    "learn.lr_find()"
   ]
  },
  {
   "cell_type": "code",
   "execution_count": 60,
   "id": "1d9e9db10375dc5a",
   "metadata": {
    "ExecuteTime": {
     "end_time": "2023-09-08T18:16:09.248688500Z",
     "start_time": "2023-09-08T18:14:57.578872700Z"
    }
   },
   "outputs": [
    {
     "data": {
      "text/html": [
       "\n",
       "<style>\n",
       "    /* Turns off some styling */\n",
       "    progress {\n",
       "        /* gets rid of default border in Firefox and Opera. */\n",
       "        border: none;\n",
       "        /* Needs to be in here for Safari polyfill so background images work as expected. */\n",
       "        background-size: auto;\n",
       "    }\n",
       "    progress:not([value]), progress:not([value])::-webkit-progress-bar {\n",
       "        background: repeating-linear-gradient(45deg, #7e7e7e, #7e7e7e 10px, #5c5c5c 10px, #5c5c5c 20px);\n",
       "    }\n",
       "    .progress-bar-interrupted, .progress-bar-interrupted::-webkit-progress-bar {\n",
       "        background: #F44336;\n",
       "    }\n",
       "</style>\n"
      ],
      "text/plain": [
       "<IPython.core.display.HTML object>"
      ]
     },
     "metadata": {},
     "output_type": "display_data"
    },
    {
     "data": {
      "text/html": [
       "<table border=\"1\" class=\"dataframe\">\n",
       "  <thead>\n",
       "    <tr style=\"text-align: left;\">\n",
       "      <th>epoch</th>\n",
       "      <th>train_loss</th>\n",
       "      <th>valid_loss</th>\n",
       "      <th>time</th>\n",
       "    </tr>\n",
       "  </thead>\n",
       "  <tbody>\n",
       "    <tr>\n",
       "      <td>0</td>\n",
       "      <td>116.698196</td>\n",
       "      <td>444.441589</td>\n",
       "      <td>09:21</td>\n",
       "    </tr>\n",
       "    <tr>\n",
       "      <td>1</td>\n",
       "      <td>60.784225</td>\n",
       "      <td>30.362562</td>\n",
       "      <td>09:19</td>\n",
       "    </tr>\n",
       "    <tr>\n",
       "      <td>2</td>\n",
       "      <td>43.165230</td>\n",
       "      <td>30.371048</td>\n",
       "      <td>09:22</td>\n",
       "    </tr>\n",
       "    <tr>\n",
       "      <td>3</td>\n",
       "      <td>43.170727</td>\n",
       "      <td>30.371048</td>\n",
       "      <td>09:19</td>\n",
       "    </tr>\n",
       "    <tr>\n",
       "      <td>4</td>\n",
       "      <td>35.738930</td>\n",
       "      <td>30.371048</td>\n",
       "      <td>09:15</td>\n",
       "    </tr>\n",
       "    <tr>\n",
       "      <td>5</td>\n",
       "      <td>33.601891</td>\n",
       "      <td>29.275492</td>\n",
       "      <td>09:22</td>\n",
       "    </tr>\n",
       "    <tr>\n",
       "      <td>6</td>\n",
       "      <td>35.765629</td>\n",
       "      <td>30.371048</td>\n",
       "      <td>09:15</td>\n",
       "    </tr>\n",
       "    <tr>\n",
       "      <td>7</td>\n",
       "      <td>38.497307</td>\n",
       "      <td>35.199261</td>\n",
       "      <td>09:16</td>\n",
       "    </tr>\n",
       "    <tr>\n",
       "      <td>8</td>\n",
       "      <td>33.943790</td>\n",
       "      <td>30.369242</td>\n",
       "      <td>09:18</td>\n",
       "    </tr>\n",
       "    <tr>\n",
       "      <td>9</td>\n",
       "      <td>32.639122</td>\n",
       "      <td>30.364286</td>\n",
       "      <td>09:29</td>\n",
       "    </tr>\n",
       "  </tbody>\n",
       "</table>"
      ],
      "text/plain": [
       "<IPython.core.display.HTML object>"
      ]
     },
     "metadata": {},
     "output_type": "display_data"
    }
   ],
   "source": [
    "learn.fit_one_cycle(10, lr_max=0.023)"
   ]
  },
  {
   "cell_type": "code",
   "execution_count": null,
   "id": "c14f63713b7e97e",
   "metadata": {
    "ExecuteTime": {
     "end_time": "2023-09-08T18:23:17.910481900Z",
     "start_time": "2023-09-08T18:22:25.895563700Z"
    },
    "scrolled": true
   },
   "outputs": [
    {
     "data": {
      "text/html": [
       "\n",
       "<style>\n",
       "    /* Turns off some styling */\n",
       "    progress {\n",
       "        /* gets rid of default border in Firefox and Opera. */\n",
       "        border: none;\n",
       "        /* Needs to be in here for Safari polyfill so background images work as expected. */\n",
       "        background-size: auto;\n",
       "    }\n",
       "    progress:not([value]), progress:not([value])::-webkit-progress-bar {\n",
       "        background: repeating-linear-gradient(45deg, #7e7e7e, #7e7e7e 10px, #5c5c5c 10px, #5c5c5c 20px);\n",
       "    }\n",
       "    .progress-bar-interrupted, .progress-bar-interrupted::-webkit-progress-bar {\n",
       "        background: #F44336;\n",
       "    }\n",
       "</style>\n"
      ],
      "text/plain": [
       "<IPython.core.display.HTML object>"
      ]
     },
     "metadata": {},
     "output_type": "display_data"
    },
    {
     "data": {
      "text/html": [
       "\n",
       "    <div>\n",
       "      <progress value='0' class='' max='1' style='width:300px; height:20px; vertical-align: middle;'></progress>\n",
       "      0.00% [0/1 00:00&lt;?]\n",
       "    </div>\n",
       "    \n",
       "<table border=\"1\" class=\"dataframe\">\n",
       "  <thead>\n",
       "    <tr style=\"text-align: left;\">\n",
       "      <th>epoch</th>\n",
       "      <th>train_loss</th>\n",
       "      <th>valid_loss</th>\n",
       "      <th>time</th>\n",
       "    </tr>\n",
       "  </thead>\n",
       "  <tbody>\n",
       "  </tbody>\n",
       "</table><p>\n",
       "\n",
       "    <div>\n",
       "      <progress value='41' class='' max='43' style='width:300px; height:20px; vertical-align: middle;'></progress>\n",
       "      95.35% [41/43 07:55&lt;00:23 32.0696]\n",
       "    </div>\n",
       "    "
      ],
      "text/plain": [
       "<IPython.core.display.HTML object>"
      ]
     },
     "metadata": {},
     "output_type": "display_data"
    }
   ],
   "source": [
    "learn.fine_tune(epochs=3)"
   ]
  },
  {
   "cell_type": "code",
   "execution_count": 77,
   "id": "cd747dd6691e98da",
   "metadata": {
    "ExecuteTime": {
     "end_time": "2023-09-08T19:24:42.868445300Z",
     "start_time": "2023-09-08T19:24:29.336422700Z"
    }
   },
   "outputs": [
    {
     "data": {
      "text/html": [
       "\n",
       "<style>\n",
       "    /* Turns off some styling */\n",
       "    progress {\n",
       "        /* gets rid of default border in Firefox and Opera. */\n",
       "        border: none;\n",
       "        /* Needs to be in here for Safari polyfill so background images work as expected. */\n",
       "        background-size: auto;\n",
       "    }\n",
       "    progress:not([value]), progress:not([value])::-webkit-progress-bar {\n",
       "        background: repeating-linear-gradient(45deg, #7e7e7e, #7e7e7e 10px, #5c5c5c 10px, #5c5c5c 20px);\n",
       "    }\n",
       "    .progress-bar-interrupted, .progress-bar-interrupted::-webkit-progress-bar {\n",
       "        background: #F44336;\n",
       "    }\n",
       "</style>\n"
      ],
      "text/plain": [
       "<IPython.core.display.HTML object>"
      ]
     },
     "metadata": {},
     "output_type": "display_data"
    },
    {
     "data": {
      "text/html": [
       "\n",
       "    <div>\n",
       "      <progress value='0' class='' max='1' style='width:300px; height:20px; vertical-align: middle;'></progress>\n",
       "      \n",
       "    </div>\n",
       "    "
      ],
      "text/plain": [
       "<IPython.core.display.HTML object>"
      ]
     },
     "metadata": {},
     "output_type": "display_data"
    },
    {
     "data": {
      "image/png": "[encoded data removed]",
      "text/plain": [
       "<Figure size 648x648 with 9 Axes>"
      ]
     },
     "metadata": {},
     "output_type": "display_data"
    }
   ],
   "source": [
    "learn.show_results()"
   ]
  },
  {
   "cell_type": "code",
   "execution_count": 65,
   "id": "a433ebeedb031a03",
   "metadata": {
    "ExecuteTime": {
     "end_time": "2023-09-08T18:25:38.772363700Z",
     "start_time": "2023-09-08T18:25:38.496338Z"
    }
   },
   "outputs": [
    {
     "data": {
      "text/html": [
       "<div>\n",
       "<style scoped>\n",
       "    .dataframe tbody tr th:only-of-type {\n",
       "        vertical-align: middle;\n",
       "    }\n",
       "\n",
       "    .dataframe tbody tr th {\n",
       "        vertical-align: top;\n",
       "    }\n",
       "\n",
       "    .dataframe thead th {\n",
       "        text-align: right;\n",
       "    }\n",
       "</style>\n",
       "<table border=\"1\" class=\"dataframe\">\n",
       "  <thead>\n",
       "    <tr style=\"text-align: right;\">\n",
       "      <th></th>\n",
       "      <th>id</th>\n",
       "      <th>speed</th>\n",
       "      <th>image</th>\n",
       "    </tr>\n",
       "  </thead>\n",
       "  <tbody>\n",
       "    <tr>\n",
       "      <th>0</th>\n",
       "      <td>cb5edc4fbb104b89</td>\n",
       "      <td>Fast (1m)</td>\n",
       "      <td>./images/cb5edc4fbb104b89.png</td>\n",
       "    </tr>\n",
       "    <tr>\n",
       "      <th>1</th>\n",
       "      <td>1bcef002ce389c49</td>\n",
       "      <td>Slow (24h)</td>\n",
       "      <td>./images/1bcef002ce389c49.png</td>\n",
       "    </tr>\n",
       "    <tr>\n",
       "      <th>2</th>\n",
       "      <td>bd76ce405ca030f0</td>\n",
       "      <td>Fast (1m)</td>\n",
       "      <td>./images/bd76ce405ca030f0.png</td>\n",
       "    </tr>\n",
       "    <tr>\n",
       "      <th>3</th>\n",
       "      <td>40553013075ce241</td>\n",
       "      <td>Swift (5m)</td>\n",
       "      <td>./images/40553013075ce241.png</td>\n",
       "    </tr>\n",
       "    <tr>\n",
       "      <th>4</th>\n",
       "      <td>286049d7edf3ba23</td>\n",
       "      <td>Fast (1m)</td>\n",
       "      <td>./images/286049d7edf3ba23.png</td>\n",
       "    </tr>\n",
       "    <tr>\n",
       "      <th>...</th>\n",
       "      <td>...</td>\n",
       "      <td>...</td>\n",
       "      <td>...</td>\n",
       "    </tr>\n",
       "    <tr>\n",
       "      <th>115</th>\n",
       "      <td>6cf64aa97e47a07b</td>\n",
       "      <td>Catatonic (1w)</td>\n",
       "      <td>./images/6cf64aa97e47a07b.png</td>\n",
       "    </tr>\n",
       "    <tr>\n",
       "      <th>116</th>\n",
       "      <td>fc6facf81274fc32</td>\n",
       "      <td>Fast (1m)</td>\n",
       "      <td>./images/fc6facf81274fc32.png</td>\n",
       "    </tr>\n",
       "    <tr>\n",
       "      <th>117</th>\n",
       "      <td>23ce24895ca207a1</td>\n",
       "      <td>Catatonic (1w)</td>\n",
       "      <td>./images/23ce24895ca207a1.png</td>\n",
       "    </tr>\n",
       "    <tr>\n",
       "      <th>118</th>\n",
       "      <td>64bd0b8e987ac69d</td>\n",
       "      <td>Fast (1m)</td>\n",
       "      <td>./images/64bd0b8e987ac69d.png</td>\n",
       "    </tr>\n",
       "    <tr>\n",
       "      <th>119</th>\n",
       "      <td>3a70e450b5440855</td>\n",
       "      <td>Fast (1m)</td>\n",
       "      <td>./images/3a70e450b5440855.png</td>\n",
       "    </tr>\n",
       "  </tbody>\n",
       "</table>\n",
       "<p>120 rows × 3 columns</p>\n",
       "</div>"
      ],
      "text/plain": [
       "                   id           speed                          image\n",
       "0    cb5edc4fbb104b89       Fast (1m)  ./images/cb5edc4fbb104b89.png\n",
       "1    1bcef002ce389c49      Slow (24h)  ./images/1bcef002ce389c49.png\n",
       "2    bd76ce405ca030f0       Fast (1m)  ./images/bd76ce405ca030f0.png\n",
       "3    40553013075ce241      Swift (5m)  ./images/40553013075ce241.png\n",
       "4    286049d7edf3ba23       Fast (1m)  ./images/286049d7edf3ba23.png\n",
       "..                ...             ...                            ...\n",
       "115  6cf64aa97e47a07b  Catatonic (1w)  ./images/6cf64aa97e47a07b.png\n",
       "116  fc6facf81274fc32       Fast (1m)  ./images/fc6facf81274fc32.png\n",
       "117  23ce24895ca207a1  Catatonic (1w)  ./images/23ce24895ca207a1.png\n",
       "118  64bd0b8e987ac69d       Fast (1m)  ./images/64bd0b8e987ac69d.png\n",
       "119  3a70e450b5440855       Fast (1m)  ./images/3a70e450b5440855.png\n",
       "\n",
       "[120 rows x 3 columns]"
      ]
     },
     "execution_count": 65,
     "metadata": {},
     "output_type": "execute_result"
    }
   ],
   "source": [
    "test_data"
   ]
  },
  {
   "cell_type": "code",
   "execution_count": 69,
   "id": "f06fb59ad1018f97",
   "metadata": {
    "ExecuteTime": {
     "end_time": "2023-09-08T19:22:01.835284400Z",
     "start_time": "2023-09-08T19:22:01.692629900Z"
    }
   },
   "outputs": [
    {
     "data": {
      "text/plain": [
       "'C:/worksspace/purr-price-prediction/'"
      ]
     },
     "execution_count": 69,
     "metadata": {},
     "output_type": "execute_result"
    }
   ],
   "source": [
    "root_path"
   ]
  },
  {
   "cell_type": "code",
   "execution_count": null,
   "id": "8e3dfdc6b59a1fb5",
   "metadata": {},
   "outputs": [],
   "source": [
    "lst_prices = []\n",
    "\n",
    "for filename in test_data[\"image\"]:\n",
    "    filename = os.path.basename(filename)\n",
    "    # print(filename)\n",
    "    \n",
    "    predicted_price = learn.predict(root_path + \"images/images/\" + filename)\n",
    "    \n",
    "    lst_prices.append(float(predicted_price[0][0]))"
   ]
  },
  {
   "cell_type": "code",
   "execution_count": null,
   "id": "ec8ba9632bc8f48c",
   "metadata": {},
   "outputs": [],
   "source": [
    "lst_prices"
   ]
  },
  {
   "cell_type": "code",
   "execution_count": 93,
   "id": "393e90cf34c68acc",
   "metadata": {
    "ExecuteTime": {
     "end_time": "2023-09-08T19:39:38.380567100Z",
     "start_time": "2023-09-08T19:39:38.049364300Z"
    }
   },
   "outputs": [],
   "source": [
    "results = test_data[[\"id\"]]\n",
    "results = results.assign(price = lst_prices)"
   ]
  },
  {
   "cell_type": "code",
   "execution_count": 99,
   "id": "950d5bb85c6e5a83",
   "metadata": {
    "ExecuteTime": {
     "end_time": "2023-09-08T19:45:07.767713700Z",
     "start_time": "2023-09-08T19:45:07.640054200Z"
    }
   },
   "outputs": [],
   "source": [
    "results.to_csv(root_path + \"results/results.csv\", index=False)"
   ]
  },
  {
   "cell_type": "markdown",
   "id": "4df0bee107fdb96b",
   "metadata": {},
   "source": []
  }
 ],
 "metadata": {
  "kernelspec": {
   "display_name": "Python 3 (ipykernel)",
   "language": "python",
   "name": "python3"
  },
  "language_info": {
   "codemirror_mode": {
    "name": "ipython",
    "version": 3
   },
   "file_extension": ".py",
   "mimetype": "text/x-python",
   "name": "python",
   "nbconvert_exporter": "python",
   "pygments_lexer": "ipython3",
   "version": "3.10.4"
  }
 },
 "nbformat": 4,
 "nbformat_minor": 5
}
