{
 "cells": [
  {
   "cell_type": "code",
   "execution_count": null,
   "id": "initial_id",
   "metadata": {
    "collapsed": true
   },
   "outputs": [],
   "source": [
    "import pandas as pd\n",
    "import matplotlib.pyplot as plt\n",
    "import seaborn as sns\n",
    "import numpy as np\n",
    "from scipy import stats, linalg\n",
    "import torch\n",
    "from fastai.vision.all import *\n",
    "import image_tabular\n",
    "import re\n",
    "import os\n",
    "import shutil\n",
    "import stat\n",
    "import random"
   ]
  },
  {
   "cell_type": "code",
   "execution_count": null,
   "outputs": [],
   "source": [
    "train_data = pd.read_csv(\"C:/worksspace/purr-price-prediction/train.csv\")\n",
    "test_data = pd.read_csv(\"C:/worksspace/purr-price-prediction/test.csv\")\n",
    "\n",
    "# approach: (1) use only images to predict (2) image combined with tabular data, for this purpose we will use the library image_tabular\n",
    "# but image-tabular doesn't seem to be maintained anymore\n",
    "# what is cool down time? "
   ],
   "metadata": {
    "collapsed": false
   },
   "id": "13ac0e6627a87843"
  },
  {
   "cell_type": "code",
   "execution_count": null,
   "outputs": [],
   "source": [
    "train_data"
   ],
   "metadata": {
    "collapsed": false
   },
   "id": "fbbd6caf6169082"
  },
  {
   "cell_type": "code",
   "execution_count": null,
   "outputs": [],
   "source": [
    "train_data.dtypes"
   ],
   "metadata": {
    "collapsed": false
   },
   "id": "385a55b3739bd22d"
  },
  {
   "cell_type": "code",
   "execution_count": null,
   "outputs": [],
   "source": [
    "# firstly, we want to checkout how the speed influences the price (correlation, genral trend)\n",
    "\n",
    "train_data[train_data[\"price\"].str.contains(\",\")]"
   ],
   "metadata": {
    "collapsed": false
   },
   "id": "fca3ed9c6867649f"
  },
  {
   "cell_type": "code",
   "execution_count": null,
   "outputs": [],
   "source": [
    "train_data[\"price\"] = train_data[\"price\"].apply(lambda x : x.replace(\",\",\"\") if \",\" in x else x)"
   ],
   "metadata": {
    "collapsed": false
   },
   "id": "ac4f153a37d7a916"
  },
  {
   "cell_type": "code",
   "execution_count": null,
   "outputs": [],
   "source": [
    "train_data[train_data[\"price\"].str.contains(\",\")]"
   ],
   "metadata": {
    "collapsed": false
   },
   "id": "41830c88916fde60"
  },
  {
   "cell_type": "code",
   "execution_count": null,
   "outputs": [],
   "source": [
    "train_data[\"price\"] = train_data[(\"price\")].astype(float)"
   ],
   "metadata": {
    "collapsed": false
   },
   "id": "f4178ee89f824c4e"
  },
  {
   "cell_type": "code",
   "execution_count": null,
   "outputs": [],
   "source": [
    "train_data[\"speed\"].unique()"
   ],
   "metadata": {
    "collapsed": false
   },
   "id": "c3de256bca10d32f"
  },
  {
   "cell_type": "code",
   "execution_count": null,
   "outputs": [],
   "source": [
    "# re.search(r\"\\(([A-Za-z0-9]+)\\)\", 'Snappy (10m)').group(1)\n",
    "def get_time(s):\n",
    "    res_str = re.search(r\"\\(([A-Za-z0-9]+)\\)\", s).group(1)\n",
    "    res = parse_time_string(res_str)\n",
    "    return res\n",
    "\n",
    "# we want to convert all time strings to numbers (unit is minute)\n",
    "def parse_time_string(s):\n",
    "    items = re.match(r\"([0-9]+)([a-z]+)\", s, re.I).groups()\n",
    "    num = int(items[0])\n",
    "    unit = items[1]\n",
    "    if \"m\" in unit:\n",
    "        return num\n",
    "    elif \"h\" in unit:\n",
    "        return 60 * num\n",
    "    elif \"d\" in unit:\n",
    "        return 60 * 24 * num\n",
    "    else: # \"w\"\n",
    "        return 60 * 24 * 7 * num"
   ],
   "metadata": {
    "collapsed": false
   },
   "id": "d21c3b9dbcc3549b"
  },
  {
   "cell_type": "code",
   "execution_count": null,
   "outputs": [],
   "source": [
    "stuff = re.match(r\"([0-9]+)([a-z]+)\", \"10m\", re.I).groups()\n",
    "\"m\" in stuff[1]"
   ],
   "metadata": {
    "collapsed": false
   },
   "id": "cc7bb94969ce2a73"
  },
  {
   "cell_type": "code",
   "execution_count": null,
   "outputs": [],
   "source": [
    "train_data[\"speed\"] = train_data[\"speed\"].apply(lambda x: get_time(x))"
   ],
   "metadata": {
    "collapsed": false
   },
   "id": "b2e04e97b76338b7"
  },
  {
   "cell_type": "code",
   "execution_count": null,
   "outputs": [],
   "source": [
    "train_data[\"id\"]"
   ],
   "metadata": {
    "collapsed": false
   },
   "id": "44ec3335602e3a07"
  },
  {
   "cell_type": "code",
   "execution_count": null,
   "outputs": [],
   "source": [
    "train_data.dtypes"
   ],
   "metadata": {
    "collapsed": false
   },
   "id": "5ffef465513ef73b"
  },
  {
   "cell_type": "code",
   "execution_count": null,
   "outputs": [],
   "source": [
    "sns.histplot(data=train_data, x=\"speed\")\n",
    "# when plotting count or density, be careful with continuous data"
   ],
   "metadata": {
    "collapsed": false
   },
   "id": "a7b81ea2997d3134"
  },
  {
   "cell_type": "code",
   "execution_count": null,
   "outputs": [],
   "source": [
    "sns.displot(x=train_data[\"price\"], bins=25, kde=True)"
   ],
   "metadata": {
    "collapsed": false
   },
   "id": "a1c8b05c3c616d86"
  },
  {
   "cell_type": "code",
   "execution_count": null,
   "outputs": [],
   "source": [
    "sns.boxplot(x=train_data[\"price\"])"
   ],
   "metadata": {
    "collapsed": false
   },
   "id": "d17a607feb1b5ab4"
  },
  {
   "cell_type": "code",
   "execution_count": null,
   "outputs": [],
   "source": [
    "# back up the original data\n",
    "train_data_original = train_data"
   ],
   "metadata": {
    "collapsed": false
   },
   "id": "566edf95e374fdef"
  },
  {
   "cell_type": "code",
   "execution_count": null,
   "outputs": [],
   "source": [
    "train_data_original"
   ],
   "metadata": {
    "collapsed": false
   },
   "id": "f57cd68cd183dd2e"
  },
  {
   "cell_type": "code",
   "execution_count": null,
   "outputs": [],
   "source": [
    "train_data = train_data_original.drop(train_data_original[train_data_original[\"price\"] > 20].index)"
   ],
   "metadata": {
    "collapsed": false
   },
   "id": "665400718fe7697f"
  },
  {
   "cell_type": "code",
   "execution_count": null,
   "outputs": [],
   "source": [
    "train_data"
   ],
   "metadata": {
    "collapsed": false
   },
   "id": "e46a757bd1dbfee9"
  },
  {
   "cell_type": "code",
   "execution_count": null,
   "outputs": [],
   "source": [
    "sns.boxplot(x=train_data[\"price\"])"
   ],
   "metadata": {
    "collapsed": false
   },
   "id": "af605d688186a27b"
  },
  {
   "cell_type": "code",
   "execution_count": null,
   "outputs": [],
   "source": [
    "# the relation between speed and price\n",
    "sns.lineplot(data=train_data, x=\"speed\", y=\"price\", errorbar=None)\n",
    "# it seems that generally very long cooling time corresponds to lower prices"
   ],
   "metadata": {
    "collapsed": false
   },
   "id": "b9c03de94adb427f"
  },
  {
   "cell_type": "code",
   "execution_count": null,
   "outputs": [],
   "source": [
    "# the correlation matrix ssuggests the same kind of weak correlation\n",
    "sns.heatmap(train_data.corr(), annot=True)"
   ],
   "metadata": {
    "collapsed": false
   },
   "id": "a5b16800bacf2cb2"
  },
  {
   "cell_type": "code",
   "execution_count": null,
   "outputs": [],
   "source": [
    "path = Path(\"C:\\worksspace\\purr-price-prediction\\images\\images\")"
   ],
   "metadata": {
    "collapsed": false
   },
   "id": "61185a260e4a4cc4"
  },
  {
   "cell_type": "code",
   "execution_count": null,
   "outputs": [],
   "source": [
    "full_paths_im = get_image_files(path)"
   ],
   "metadata": {
    "collapsed": false
   },
   "id": "ce4ec6089b08da7f"
  },
  {
   "cell_type": "code",
   "execution_count": null,
   "outputs": [],
   "source": [
    "# checkout the first image\n",
    "Image.open(full_paths_im[0]).to_thumb(256, 256)"
   ],
   "metadata": {
    "collapsed": false
   },
   "id": "56d8eb8d8ea50507"
  },
  {
   "cell_type": "code",
   "execution_count": null,
   "outputs": [],
   "source": [
    "# test\n",
    "\n",
    "first_file_name = full_paths_im[0]\n",
    "first_file_name"
   ],
   "metadata": {
    "collapsed": false
   },
   "id": "2044b158c7f46c43"
  },
  {
   "cell_type": "code",
   "execution_count": null,
   "outputs": [],
   "source": [
    "# test\n",
    "\n",
    "\"png\" in first_file_name.name\n",
    "name_test = os.path.basename(\"./images/7d46fd31038904e2.png\")\n",
    "train_data.loc[train_data['image'] == \"./images/\"+name_test, \"price\"] "
   ],
   "metadata": {
    "collapsed": false
   },
   "id": "136d595a694f1be5"
  },
  {
   "cell_type": "code",
   "execution_count": null,
   "outputs": [],
   "source": [
    "# copy all the images, whose relative row is not removed from the training data\n",
    "# to a different directory\n",
    "# also we don't want to edit the original images\n",
    "root_path = \"C:/worksspace/purr-price-prediction/\"\n",
    "\n",
    "if os.listdir(root_path + \"images/images_copy/\"): # if the directory is not empty\n",
    "\n",
    "    all_files = os.listdir(root_path + \"images/images_copy/\")\n",
    "    \n",
    "    for f in all_files:\n",
    "        os.remove(root_path + \"images/images_copy/\" + f)\n",
    "\n",
    "# shutil.copyfile(src = root_path + \"images/images/7d46fd31038904e2.png\", dst = root_path + \"images/images_copy/7d46fd31038904e2.png\")"
   ],
   "metadata": {
    "collapsed": false
   },
   "id": "53e68c9f7817a07b"
  },
  {
   "cell_type": "code",
   "execution_count": null,
   "outputs": [],
   "source": [
    "all_original_files = os.listdir(root_path + \"images/images/\")\n",
    "\n",
    "for f in all_original_files:\n",
    "    if not locate_price(f).empty:\n",
    "        shutil.copy(src = root_path + \"images/images/\" + f, dst = \"images/images_copy/\" + f)"
   ],
   "metadata": {
    "collapsed": false
   },
   "id": "6ac47cde9b981927"
  },
  {
   "cell_type": "code",
   "execution_count": null,
   "outputs": [],
   "source": [
    "# test\n",
    "locate_price('00068810bf2226f2.png').empty"
   ],
   "metadata": {
    "collapsed": false
   },
   "id": "5bd633890e0ab4f9"
  },
  {
   "cell_type": "code",
   "execution_count": null,
   "outputs": [],
   "source": [
    "# function for getting labels, in our case it's price\n",
    "def locate_price(filename):\n",
    "    \"\"\"\n",
    "    function locates the price of an image according to the file name of the image\n",
    "    :param filename: string e.g. '00068810bf2226f2.png'\n",
    "    :return: 1x1 data frame with the price (float)\n",
    "    \"\"\"\n",
    "    return train_data.loc[train_data['image'] == \"./images/\"+ filename, \"price\"] \n",
    "\n",
    "def get_price(full_path_im):\n",
    "    \"\"\"\n",
    "    function returns the price of an image according to the full path to the image\n",
    "    :param full_path_im: Path, e.g. Path('C:/worksspace/purr-price-prediction/images/images/00068810bf2226f2.png')\n",
    "    :return: float\n",
    "    \"\"\"\n",
    "    filename = os.path.basename(full_path_im.name)\n",
    "    return float(locate_price(filename))"
   ],
   "metadata": {
    "collapsed": false
   },
   "id": "654fa0c47bf5824c"
  },
  {
   "cell_type": "code",
   "execution_count": null,
   "outputs": [],
   "source": [
    "\n",
    "\n",
    "# list(set(random.sample(list(train_data.index), round(num_rows))))\n",
    "\n",
    "def splitter(df):\n",
    "    num_rows = len(train_data.index)\n",
    "    \n",
    "    num_train = round(num_rows * 0.8)\n",
    "    num_valid = num_rows - num_train\n",
    "    \n",
    "    all_indices = list(train_data.index)\n",
    "    \n",
    "    train_indices = list(set(random.sample(list(train_data.index), num_train)))\n",
    "    valid_indices = [i for i in all_indices if i not in train_indices]\n",
    "    \n",
    "    return train_indices, valid_indices"
   ],
   "metadata": {
    "collapsed": false
   },
   "id": "ae260cb9c535080e"
  },
  {
   "cell_type": "code",
   "execution_count": null,
   "outputs": [],
   "source": [
    "dblock = DataBlock(\n",
    "    blocks = (ImageBlock, RegressionBlock),\n",
    "    get_items = get_image_files,\n",
    "    get_y = get_price,\n",
    "    splitter = RandomSplitter(),\n",
    "    item_tfms = Resize(224), \n",
    ")"
   ],
   "metadata": {
    "collapsed": false
   },
   "id": "ff0c90833dd3d419"
  },
  {
   "cell_type": "code",
   "execution_count": null,
   "outputs": [],
   "source": [
    "path = Path(root_path + \"\\images\\images_copy\")\n",
    "dsets = dblock.datasets(path)"
   ],
   "metadata": {
    "collapsed": false
   },
   "id": "8a1c674636aafc83"
  },
  {
   "cell_type": "code",
   "execution_count": null,
   "outputs": [],
   "source": [
    "dsets.train[3]"
   ],
   "metadata": {
    "collapsed": false
   },
   "id": "de9bd544b28d28f3"
  },
  {
   "cell_type": "code",
   "execution_count": null,
   "outputs": [],
   "source": [
    "dls = dblock.dataloaders(path)"
   ],
   "metadata": {
    "collapsed": false
   },
   "id": "4d427e3ff746c97"
  },
  {
   "cell_type": "code",
   "execution_count": null,
   "outputs": [],
   "source": [
    "dls.show_batch()"
   ],
   "metadata": {
    "collapsed": false
   },
   "id": "758426e83c6a1e6c"
  },
  {
   "cell_type": "code",
   "execution_count": null,
   "outputs": [],
   "source": [
    "xb,yb = dls.one_batch()\n",
    "xb.shape,yb.shape\n",
    "\n",
    "# 64 is the defaut batch size\n",
    "# dataloader converts the input image to tensor of size [3, 244, 244]\n",
    "\n",
    "# TODO: deal with the splitter, batch size"
   ],
   "metadata": {
    "collapsed": false
   },
   "id": "abaaebec89ae5d49"
  },
  {
   "cell_type": "code",
   "execution_count": null,
   "outputs": [],
   "source": [
    "learn = vision_learner(dls, resnet18, y_range=(-1, 1))"
   ],
   "metadata": {
    "collapsed": false
   },
   "id": "3cc6f97c20875e58"
  },
  {
   "cell_type": "code",
   "execution_count": null,
   "outputs": [],
   "source": [
    "learn.loss_func\n",
    "# FlattenedLoss of MSELoss(): mean squared error loss"
   ],
   "metadata": {
    "collapsed": false
   },
   "id": "6489cbbf34c17c5"
  },
  {
   "cell_type": "code",
   "execution_count": null,
   "outputs": [],
   "source": [
    "learn.lr_find()"
   ],
   "metadata": {
    "collapsed": false
   },
   "id": "c8a40b69e7afd92a"
  },
  {
   "cell_type": "code",
   "execution_count": null,
   "outputs": [],
   "source": [
    "learn.show_results(ds_type=DatasetType.Train, rows=4, figsize=(8,10))"
   ],
   "metadata": {
    "collapsed": false
   },
   "id": "cd747dd6691e98da"
  },
  {
   "cell_type": "markdown",
   "source": [],
   "metadata": {
    "collapsed": false
   },
   "id": "4df0bee107fdb96b"
  }
 ],
 "metadata": {
  "kernelspec": {
   "display_name": "Python 3",
   "language": "python",
   "name": "python3"
  },
  "language_info": {
   "codemirror_mode": {
    "name": "ipython",
    "version": 2
   },
   "file_extension": ".py",
   "mimetype": "text/x-python",
   "name": "python",
   "nbconvert_exporter": "python",
   "pygments_lexer": "ipython2",
   "version": "2.7.6"
  }
 },
 "nbformat": 4,
 "nbformat_minor": 5
}
