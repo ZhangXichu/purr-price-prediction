{
 "cells": [
  {
   "cell_type": "code",
   "execution_count": 59,
   "id": "initial_id",
   "metadata": {
    "collapsed": true,
    "ExecuteTime": {
     "end_time": "2023-09-07T14:10:11.776368300Z",
     "start_time": "2023-09-07T14:10:01.713347Z"
    }
   },
   "outputs": [],
   "source": [
    "import pandas as pd\n",
    "import matplotlib.pyplot as plt\n",
    "import seaborn as sns\n",
    "import torch\n",
    "import fastai\n",
    "import re"
   ]
  },
  {
   "cell_type": "code",
   "execution_count": 8,
   "outputs": [],
   "source": [
    "train_data = pd.read_csv(\"C:/worksspace/how-much-would-you-pay-for-a-fake-cat/train.csv\")\n",
    "test_data = pd.read_csv(\"C:/worksspace/how-much-would-you-pay-for-a-fake-cat/test.csv\")\n",
    "\n",
    "# approach: (1) use only images to predict (2) image combined with tabular data, for this purpose we will use the library image_tabular\n",
    "# what is cool down time? "
   ],
   "metadata": {
    "collapsed": false,
    "ExecuteTime": {
     "end_time": "2023-09-07T08:55:08.892712500Z",
     "start_time": "2023-09-07T08:55:08.675705700Z"
    }
   },
   "id": "13ac0e6627a87843"
  },
  {
   "cell_type": "code",
   "execution_count": 9,
   "outputs": [
    {
     "data": {
      "text/plain": "                    id price           speed                          image\n0     7d46fd31038904e2  2.13       Fast (1m)  ./images/7d46fd31038904e2.png\n1     76690b9129b9895c  0.46  Catatonic (1w)  ./images/76690b9129b9895c.png\n2     c5f9966acce22205    10      Swift (2m)  ./images/c5f9966acce22205.png\n3     dfcbc3748fa8e4ba     2  Catatonic (1w)  ./images/dfcbc3748fa8e4ba.png\n4     eefb9c589f2ad43a     1    Snappy (10m)  ./images/eefb9c589f2ad43a.png\n...                ...   ...             ...                            ...\n1995  307a15aebca02b38  5.08       Fast (1m)  ./images/307a15aebca02b38.png\n1996  9c85020f7a7bdf6b   0.3      Swift (2m)  ./images/9c85020f7a7bdf6b.png\n1997  b02b3492e6b7cd6b  1.44       Fast (1m)  ./images/b02b3492e6b7cd6b.png\n1998  21dd1ee9b54261af   2.5       Fast (1m)  ./images/21dd1ee9b54261af.png\n1999  cf63e5026eb6d155    40       Fast (1m)  ./images/cf63e5026eb6d155.png\n\n[2000 rows x 4 columns]",
      "text/html": "<div>\n<style scoped>\n    .dataframe tbody tr th:only-of-type {\n        vertical-align: middle;\n    }\n\n    .dataframe tbody tr th {\n        vertical-align: top;\n    }\n\n    .dataframe thead th {\n        text-align: right;\n    }\n</style>\n<table border=\"1\" class=\"dataframe\">\n  <thead>\n    <tr style=\"text-align: right;\">\n      <th></th>\n      <th>id</th>\n      <th>price</th>\n      <th>speed</th>\n      <th>image</th>\n    </tr>\n  </thead>\n  <tbody>\n    <tr>\n      <th>0</th>\n      <td>7d46fd31038904e2</td>\n      <td>2.13</td>\n      <td>Fast (1m)</td>\n      <td>./images/7d46fd31038904e2.png</td>\n    </tr>\n    <tr>\n      <th>1</th>\n      <td>76690b9129b9895c</td>\n      <td>0.46</td>\n      <td>Catatonic (1w)</td>\n      <td>./images/76690b9129b9895c.png</td>\n    </tr>\n    <tr>\n      <th>2</th>\n      <td>c5f9966acce22205</td>\n      <td>10</td>\n      <td>Swift (2m)</td>\n      <td>./images/c5f9966acce22205.png</td>\n    </tr>\n    <tr>\n      <th>3</th>\n      <td>dfcbc3748fa8e4ba</td>\n      <td>2</td>\n      <td>Catatonic (1w)</td>\n      <td>./images/dfcbc3748fa8e4ba.png</td>\n    </tr>\n    <tr>\n      <th>4</th>\n      <td>eefb9c589f2ad43a</td>\n      <td>1</td>\n      <td>Snappy (10m)</td>\n      <td>./images/eefb9c589f2ad43a.png</td>\n    </tr>\n    <tr>\n      <th>...</th>\n      <td>...</td>\n      <td>...</td>\n      <td>...</td>\n      <td>...</td>\n    </tr>\n    <tr>\n      <th>1995</th>\n      <td>307a15aebca02b38</td>\n      <td>5.08</td>\n      <td>Fast (1m)</td>\n      <td>./images/307a15aebca02b38.png</td>\n    </tr>\n    <tr>\n      <th>1996</th>\n      <td>9c85020f7a7bdf6b</td>\n      <td>0.3</td>\n      <td>Swift (2m)</td>\n      <td>./images/9c85020f7a7bdf6b.png</td>\n    </tr>\n    <tr>\n      <th>1997</th>\n      <td>b02b3492e6b7cd6b</td>\n      <td>1.44</td>\n      <td>Fast (1m)</td>\n      <td>./images/b02b3492e6b7cd6b.png</td>\n    </tr>\n    <tr>\n      <th>1998</th>\n      <td>21dd1ee9b54261af</td>\n      <td>2.5</td>\n      <td>Fast (1m)</td>\n      <td>./images/21dd1ee9b54261af.png</td>\n    </tr>\n    <tr>\n      <th>1999</th>\n      <td>cf63e5026eb6d155</td>\n      <td>40</td>\n      <td>Fast (1m)</td>\n      <td>./images/cf63e5026eb6d155.png</td>\n    </tr>\n  </tbody>\n</table>\n<p>2000 rows × 4 columns</p>\n</div>"
     },
     "execution_count": 9,
     "metadata": {},
     "output_type": "execute_result"
    }
   ],
   "source": [
    "train_data"
   ],
   "metadata": {
    "collapsed": false,
    "ExecuteTime": {
     "end_time": "2023-09-07T08:55:11.124916300Z",
     "start_time": "2023-09-07T08:55:11.094027300Z"
    }
   },
   "id": "fbbd6caf6169082"
  },
  {
   "cell_type": "code",
   "execution_count": 13,
   "outputs": [
    {
     "data": {
      "text/plain": "id       object\nprice    object\nspeed    object\nimage    object\ndtype: object"
     },
     "execution_count": 13,
     "metadata": {},
     "output_type": "execute_result"
    }
   ],
   "source": [
    "train_data.dtypes"
   ],
   "metadata": {
    "collapsed": false,
    "ExecuteTime": {
     "end_time": "2023-09-07T08:58:01.327445100Z",
     "start_time": "2023-09-07T08:58:01.314478300Z"
    }
   },
   "id": "385a55b3739bd22d"
  },
  {
   "cell_type": "code",
   "execution_count": 25,
   "outputs": [
    {
     "data": {
      "text/plain": "                    id       price       speed                          image\n169   f3d35c91c9326e2f   1,000,000   Fast (1m)  ./images/f3d35c91c9326e2f.png\n492   d8f329f21806993d  19,999.995  Swift (2m)  ./images/d8f329f21806993d.png\n1750  8710ef3010f0f6bc      10,000   Fast (1m)  ./images/8710ef3010f0f6bc.png\n1938  ef35cc81fb7967c3      15,000   Fast (1m)  ./images/ef35cc81fb7967c3.png",
      "text/html": "<div>\n<style scoped>\n    .dataframe tbody tr th:only-of-type {\n        vertical-align: middle;\n    }\n\n    .dataframe tbody tr th {\n        vertical-align: top;\n    }\n\n    .dataframe thead th {\n        text-align: right;\n    }\n</style>\n<table border=\"1\" class=\"dataframe\">\n  <thead>\n    <tr style=\"text-align: right;\">\n      <th></th>\n      <th>id</th>\n      <th>price</th>\n      <th>speed</th>\n      <th>image</th>\n    </tr>\n  </thead>\n  <tbody>\n    <tr>\n      <th>169</th>\n      <td>f3d35c91c9326e2f</td>\n      <td>1,000,000</td>\n      <td>Fast (1m)</td>\n      <td>./images/f3d35c91c9326e2f.png</td>\n    </tr>\n    <tr>\n      <th>492</th>\n      <td>d8f329f21806993d</td>\n      <td>19,999.995</td>\n      <td>Swift (2m)</td>\n      <td>./images/d8f329f21806993d.png</td>\n    </tr>\n    <tr>\n      <th>1750</th>\n      <td>8710ef3010f0f6bc</td>\n      <td>10,000</td>\n      <td>Fast (1m)</td>\n      <td>./images/8710ef3010f0f6bc.png</td>\n    </tr>\n    <tr>\n      <th>1938</th>\n      <td>ef35cc81fb7967c3</td>\n      <td>15,000</td>\n      <td>Fast (1m)</td>\n      <td>./images/ef35cc81fb7967c3.png</td>\n    </tr>\n  </tbody>\n</table>\n</div>"
     },
     "execution_count": 25,
     "metadata": {},
     "output_type": "execute_result"
    }
   ],
   "source": [
    "# firstly, we want to checkout how the speed influences the price (correlation, genral trend)\n",
    "\n",
    "train_data[train_data[\"price\"].str.contains(\",\")]"
   ],
   "metadata": {
    "collapsed": false,
    "ExecuteTime": {
     "end_time": "2023-09-07T10:05:56.929219Z",
     "start_time": "2023-09-07T10:05:56.775475800Z"
    }
   },
   "id": "fca3ed9c6867649f"
  },
  {
   "cell_type": "code",
   "execution_count": 28,
   "outputs": [],
   "source": [
    "train_data[\"price\"] = train_data[\"price\"].apply(lambda x : x.replace(\",\",\"\") if \",\" in x else x)"
   ],
   "metadata": {
    "collapsed": false,
    "ExecuteTime": {
     "end_time": "2023-09-07T10:21:49.316577Z",
     "start_time": "2023-09-07T10:21:49.307640300Z"
    }
   },
   "id": "ac4f153a37d7a916"
  },
  {
   "cell_type": "code",
   "execution_count": 30,
   "outputs": [
    {
     "data": {
      "text/plain": "Empty DataFrame\nColumns: [id, price, speed, image]\nIndex: []",
      "text/html": "<div>\n<style scoped>\n    .dataframe tbody tr th:only-of-type {\n        vertical-align: middle;\n    }\n\n    .dataframe tbody tr th {\n        vertical-align: top;\n    }\n\n    .dataframe thead th {\n        text-align: right;\n    }\n</style>\n<table border=\"1\" class=\"dataframe\">\n  <thead>\n    <tr style=\"text-align: right;\">\n      <th></th>\n      <th>id</th>\n      <th>price</th>\n      <th>speed</th>\n      <th>image</th>\n    </tr>\n  </thead>\n  <tbody>\n  </tbody>\n</table>\n</div>"
     },
     "execution_count": 30,
     "metadata": {},
     "output_type": "execute_result"
    }
   ],
   "source": [
    "train_data[train_data[\"price\"].str.contains(\",\")]"
   ],
   "metadata": {
    "collapsed": false,
    "ExecuteTime": {
     "end_time": "2023-09-07T10:22:04.003097700Z",
     "start_time": "2023-09-07T10:22:03.976409800Z"
    }
   },
   "id": "41830c88916fde60"
  },
  {
   "cell_type": "code",
   "execution_count": 31,
   "outputs": [],
   "source": [
    "train_data[\"price\"] = train_data[(\"price\")].astype(float)"
   ],
   "metadata": {
    "collapsed": false,
    "ExecuteTime": {
     "end_time": "2023-09-07T10:22:50.368136500Z",
     "start_time": "2023-09-07T10:22:50.351108300Z"
    }
   },
   "id": "f4178ee89f824c4e"
  },
  {
   "cell_type": "code",
   "execution_count": 51,
   "outputs": [
    {
     "data": {
      "text/plain": "array(['Fast (1m)', 'Catatonic (1w)', 'Swift (2m)', 'Snappy (10m)',\n       'Swift (5m)', 'Snappy (30m)', 'Brisk (1h)', 'Slow (16h)',\n       'Plodding (4h)', 'Plodding (8h)', 'Brisk (2h)', 'Sluggish (4d)',\n       'Sluggish (2d)', 'Slow (24h)'], dtype=object)"
     },
     "execution_count": 51,
     "metadata": {},
     "output_type": "execute_result"
    }
   ],
   "source": [
    "train_data[\"speed\"].unique()"
   ],
   "metadata": {
    "collapsed": false,
    "ExecuteTime": {
     "end_time": "2023-09-07T13:50:18.584705400Z",
     "start_time": "2023-09-07T13:50:18.489228600Z"
    }
   },
   "id": "c3de256bca10d32f"
  },
  {
   "cell_type": "code",
   "execution_count": 53,
   "outputs": [],
   "source": [
    "# re.search(r\"\\(([A-Za-z0-9]+)\\)\", 'Snappy (10m)').group(1)\n",
    "def get_time(s):\n",
    "    res_str = re.search(r\"\\(([A-Za-z0-9]+)\\)\", s).group(1)\n",
    "    res = parse_time_string(res_str)\n",
    "    return res\n",
    "\n",
    "# we want to convert all time strings to numbers (unit is minute)\n",
    "def parse_time_string(s):\n",
    "    items = re.match(r\"([0-9]+)([a-z]+)\", s, re.I).groups()\n",
    "    num = int(items[0])\n",
    "    unit = items[1]\n",
    "    if \"m\" in unit:\n",
    "        return num\n",
    "    elif \"h\" in unit:\n",
    "        return 60 * num\n",
    "    elif \"d\" in unit:\n",
    "        return 60 * 24 * num\n",
    "    else: # \"w\"\n",
    "        return 60 * 24 * 7 * num"
   ],
   "metadata": {
    "collapsed": false,
    "ExecuteTime": {
     "end_time": "2023-09-07T13:56:19.367988Z",
     "start_time": "2023-09-07T13:56:19.348695800Z"
    }
   },
   "id": "d21c3b9dbcc3549b"
  },
  {
   "cell_type": "code",
   "execution_count": 50,
   "outputs": [
    {
     "data": {
      "text/plain": "True"
     },
     "execution_count": 50,
     "metadata": {},
     "output_type": "execute_result"
    }
   ],
   "source": [
    "stuff = re.match(r\"([0-9]+)([a-z]+)\", \"10m\", re.I).groups()\n",
    "\"m\" in stuff[1]"
   ],
   "metadata": {
    "collapsed": false,
    "ExecuteTime": {
     "end_time": "2023-09-07T13:46:17.105979500Z",
     "start_time": "2023-09-07T13:46:17.094782400Z"
    }
   },
   "id": "cc7bb94969ce2a73"
  },
  {
   "cell_type": "code",
   "execution_count": 56,
   "outputs": [],
   "source": [
    "train_data[\"speed\"] = train_data[\"speed\"].apply(lambda x: get_time(x))"
   ],
   "metadata": {
    "collapsed": false,
    "ExecuteTime": {
     "end_time": "2023-09-07T14:08:13.606369500Z",
     "start_time": "2023-09-07T14:08:13.584862900Z"
    }
   },
   "id": "b2e04e97b76338b7"
  },
  {
   "cell_type": "code",
   "execution_count": 57,
   "outputs": [
    {
     "data": {
      "text/plain": "id        object\nprice    float64\nspeed      int64\nimage     object\ndtype: object"
     },
     "execution_count": 57,
     "metadata": {},
     "output_type": "execute_result"
    }
   ],
   "source": [
    "train_data.dtypes"
   ],
   "metadata": {
    "collapsed": false,
    "ExecuteTime": {
     "end_time": "2023-09-07T14:08:14.924851300Z",
     "start_time": "2023-09-07T14:08:14.896183800Z"
    }
   },
   "id": "5ffef465513ef73b"
  },
  {
   "cell_type": "code",
   "execution_count": null,
   "outputs": [],
   "source": [],
   "metadata": {
    "collapsed": false
   },
   "id": "a7b81ea2997d3134"
  },
  {
   "cell_type": "markdown",
   "source": [],
   "metadata": {
    "collapsed": false
   },
   "id": "4df0bee107fdb96b"
  }
 ],
 "metadata": {
  "kernelspec": {
   "display_name": "Python 3",
   "language": "python",
   "name": "python3"
  },
  "language_info": {
   "codemirror_mode": {
    "name": "ipython",
    "version": 2
   },
   "file_extension": ".py",
   "mimetype": "text/x-python",
   "name": "python",
   "nbconvert_exporter": "python",
   "pygments_lexer": "ipython2",
   "version": "2.7.6"
  }
 },
 "nbformat": 4,
 "nbformat_minor": 5
}
